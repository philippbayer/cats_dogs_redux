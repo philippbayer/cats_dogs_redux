{
 "cells": [
  {
   "cell_type": "markdown",
   "metadata": {},
   "source": [
    "HERE COMES THE IMPORTANT STUFF"
   ]
  },
  {
   "cell_type": "code",
   "execution_count": 6,
   "metadata": {
    "collapsed": false
   },
   "outputs": [],
   "source": [
    "from __future__ import division,print_function\n",
    "\n",
    "import os, json\n",
    "from glob import glob\n",
    "import numpy as np\n",
    "np.set_printoptions(precision=4, linewidth=100)\n",
    "from matplotlib import pyplot as plt\n",
    "import utils; reload(utils)\n",
    "from utils import plots\n",
    "from keras.optimizers import RMSprop\n",
    "\n",
    "path = \"data/\" #sample/\"\n",
    "model_path = path + 'models/'\n",
    "\n",
    "\n",
    "# Import our class, and instantiate\n",
    "import vgg16; reload(vgg16)\n",
    "from vgg16 import Vgg16\n",
    "\n"
   ]
  },
  {
   "cell_type": "code",
   "execution_count": 3,
   "metadata": {
    "collapsed": false
   },
   "outputs": [
    {
     "name": "stdout",
     "output_type": "stream",
     "text": [
      "data/train data/valid\n"
     ]
    }
   ],
   "source": [
    "vgg = Vgg16()\n",
    "batch_size=64\n",
    "train_path = os.path.join(path, 'train')\n",
    "valid_path = os.path.join(path, 'valid')\n",
    "test_path = os.path.join(path, 'test')\n",
    "print(train_path, valid_path)\n",
    "from keras.preprocessing.image import ImageDataGenerator"
   ]
  },
  {
   "cell_type": "code",
   "execution_count": 4,
   "metadata": {
    "collapsed": false
   },
   "outputs": [],
   "source": [
    "#??vgg.get_batches\n",
    "#??vgg.finetune"
   ]
  },
  {
   "cell_type": "code",
   "execution_count": 5,
   "metadata": {
    "collapsed": false
   },
   "outputs": [
    {
     "name": "stdout",
     "output_type": "stream",
     "text": [
      "Found 21000 images belonging to 2 classes.\n",
      "Found 4000 images belonging to 2 classes.\n"
     ]
    }
   ],
   "source": [
    "datagen = ImageDataGenerator(\n",
    "    rotation_range=20,\n",
    "    width_shift_range=0.2,\n",
    "    height_shift_range=0.2,\n",
    "    horizontal_flip=True)\n",
    "\n",
    "\n",
    "#batches = vgg.get_batches(train_path, batch_size=batch_size)\n",
    "batches =  datagen.flow_from_directory(train_path, target_size=(224,224), class_mode='categorical', shuffle=True,\n",
    "                                       batch_size=batch_size)\n",
    "#val_batches = vgg.get_batches(valid_path, batch_size=batch_size*2)\n",
    "val_batches = datagen.flow_from_directory(valid_path, target_size=(224,224), class_mode='categorical', shuffle=True,\n",
    "                                       batch_size=batch_size)\n",
    "vgg.finetune(batches)\n",
    "#vgg.model.pop()\n",
    "#vgg.model.pop()\n",
    "#vgg.model.pop()\n",
    "#vgg.model.pop()\n",
    "#vgg.model.pop()\n",
    "#vgg.model.pop()\n",
    "#print(vgg.model.summary())\n",
    "#from keras.models import Sequential\n",
    "#from keras.layers import Dropout, Flatten, Dense\n",
    "#vgg.model.add(Flatten())\n",
    "#vgg.model.add(Dense(256, activation='relu'))\n",
    "#vgg.model.add(Dropout(0.5))\n",
    "#vgg.model.add(Dense(1, activation='sigmoid'))\n",
    "#vgg.compile()\n",
    "#print(batches.nb_class)\n",
    "#for layer in model.layers: layer.trainable = False\n",
    "#model.add()\n",
    "#K.set_value(opt.lr, 0.01)"
   ]
  },
  {
   "cell_type": "markdown",
   "metadata": {
    "collapsed": true
   },
   "source": [
    "Without ImageDataGenerator:\n",
    "\n",
    "    200/200 [==============================] - 7s - loss: 1.2116 - acc: 0.6400 - val_loss: 0.1929 - val_acc: 0.9400\n",
    "\n",
    "With:\n",
    "\n",
    "200/200 [==============================] - 7s - loss: 0.6619 - acc: 0.7250 - val_loss: 0.2783 - val_acc: 0.8800\n"
   ]
  },
  {
   "cell_type": "code",
   "execution_count": null,
   "metadata": {
    "collapsed": true
   },
   "outputs": [],
   "source": []
  },
  {
   "cell_type": "markdown",
   "metadata": {},
   "source": [
    "Last try with trainable from first dense layer on: \n",
    "\n",
    "Code was:\n",
    "\n",
    "```\n",
    "# Get the index of the first dense layer...\n",
    "#first_dense_idx = [index for index,layer in enumerate(layers) if type(layer) is Dense][0]\n",
    "# ...and set this and all subsequent layers to trainable\n",
    "#for layer in layers[first_dense_idx:]: layer.trainable=True\n",
    "```\n",
    "\n",
    "```\n",
    "    Epoch 1/3\n",
    "    21000/21000 [==============================] - 601s - loss: 0.1698 - acc: 0.9534 - val_loss: 0.0847 - val_acc: 0.9745\n",
    "    Epoch 2/3\n",
    "    21000/21000 [==============================] - 600s - loss: 0.1379 - acc: 0.9643 - val_loss: 0.0816 - val_acc: 0.9760\n",
    "    Epoch 3/3\n",
    "    21000/21000 [==============================] - 600s - loss: 0.1367 - acc: 0.9645 - val_loss: 0.0823 - val_acc: 0.9780\n",
    "```"
   ]
  },
  {
   "cell_type": "code",
   "execution_count": 8,
   "metadata": {
    "collapsed": false
   },
   "outputs": [
    {
     "name": "stdout",
     "output_type": "stream",
     "text": [
      "Epoch 1/5\n",
      "21000/21000 [==============================] - 602s - loss: 0.1771 - acc: 0.9524 - val_loss: 0.0957 - val_acc: 0.9740\n",
      "Epoch 2/5\n",
      "21000/21000 [==============================] - 603s - loss: 0.1377 - acc: 0.9668 - val_loss: 0.1161 - val_acc: 0.9685\n",
      "Epoch 3/5\n",
      "21000/21000 [==============================] - 602s - loss: 0.1437 - acc: 0.9660 - val_loss: 0.1222 - val_acc: 0.9685\n",
      "Epoch 4/5\n",
      "21000/21000 [==============================] - 603s - loss: 0.1433 - acc: 0.9691 - val_loss: 0.0772 - val_acc: 0.9770\n",
      "Epoch 5/5\n",
      "21000/21000 [==============================] - 603s - loss: 0.1480 - acc: 0.9667 - val_loss: 0.1050 - val_acc: 0.9735\n"
     ]
    }
   ],
   "source": [
    "from keras import backend as K\n",
    "opt = RMSprop(lr=0.1)\n",
    "K.set_value(opt.lr, 0.001)\n",
    "vgg.model.compile(optimizer=opt, loss='categorical_crossentropy', metrics=['accuracy'])\n",
    "layers = vgg.model.layers\n",
    "\n",
    " \n",
    "for layer in layers[12:]: layer.trainable=True\n",
    "    \n",
    "vgg.fit(batches, val_batches, nb_epoch=5)\n",
    "vgg.model.save_weights(model_path+'finetune3.h5')"
   ]
  },
  {
   "cell_type": "code",
   "execution_count": 75,
   "metadata": {
    "collapsed": false
   },
   "outputs": [
    {
     "name": "stdout",
     "output_type": "stream",
     "text": [
      "Found 12500 images belonging to 1 classes.\n"
     ]
    }
   ],
   "source": [
    "batches, preds = vgg.test(test_path, batch_size = batch_size*2)"
   ]
  },
  {
   "cell_type": "code",
   "execution_count": 76,
   "metadata": {
    "collapsed": true
   },
   "outputs": [],
   "source": [
    "isdog = preds[:,1]\n",
    "isdog = isdog.clip(min=0.00000001, max=0.99999999)\n",
    "filenames = batches.filenames\n",
    "ids = np.array([int(f[8:f.find('.')]) for f in filenames])\n",
    "subm = np.stack([ids,isdog], axis=1)\n",
    "\n",
    "submission_file_name = 'submission1.csv'\n",
    "np.savetxt(submission_file_name, subm, fmt='%d,%.5f', header='id,label', comments='')"
   ]
  },
  {
   "cell_type": "code",
   "execution_count": 1,
   "metadata": {
    "collapsed": false
   },
   "outputs": [
    {
     "ename": "NameError",
     "evalue": "name 'vgg' is not defined",
     "output_type": "error",
     "traceback": [
      "\u001b[0;31m---------------------------------------------------------------------------\u001b[0m",
      "\u001b[0;31mNameError\u001b[0m                                 Traceback (most recent call last)",
      "\u001b[0;32m<ipython-input-1-8d4caceb64a8>\u001b[0m in \u001b[0;36m<module>\u001b[0;34m()\u001b[0m\n\u001b[0;32m----> 1\u001b[0;31m \u001b[0mvgg\u001b[0m\u001b[0;34m.\u001b[0m\u001b[0mmodel\u001b[0m\u001b[0;34m.\u001b[0m\u001b[0mprint_summary\u001b[0m\u001b[0;34m(\u001b[0m\u001b[0;34m)\u001b[0m\u001b[0;34m\u001b[0m\u001b[0m\n\u001b[0m",
      "\u001b[0;31mNameError\u001b[0m: name 'vgg' is not defined"
     ]
    }
   ],
   "source": [
    "vgg.model.print_summary()"
   ]
  },
  {
   "cell_type": "code",
   "execution_count": null,
   "metadata": {
    "collapsed": true
   },
   "outputs": [],
   "source": []
  }
 ],
 "metadata": {
  "anaconda-cloud": {},
  "kernelspec": {
   "display_name": "Python [conda root]",
   "language": "python",
   "name": "conda-root-py"
  },
  "language_info": {
   "codemirror_mode": {
    "name": "ipython",
    "version": 2
   },
   "file_extension": ".py",
   "mimetype": "text/x-python",
   "name": "python",
   "nbconvert_exporter": "python",
   "pygments_lexer": "ipython2",
   "version": "2.7.12"
  }
 },
 "nbformat": 4,
 "nbformat_minor": 1
}
