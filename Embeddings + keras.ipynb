{
 "cells": [
  {
   "cell_type": "markdown",
   "metadata": {},
   "source": [
    "First, let's do word2vec with 'normal' text"
   ]
  },
  {
   "cell_type": "code",
   "execution_count": 1,
   "metadata": {
    "collapsed": false
   },
   "outputs": [],
   "source": [
    "from gensim.models.word2vec import Word2Vec\n",
    "from gensim.models import word2vec\n",
    "import pandas as pd\n",
    "import re\n",
    "import string\n",
    "from nltk.corpus import stopwords\n",
    "import numpy as np \n",
    "\n",
    "STOP = set(stopwords.words(\"english\"))\n",
    "REMOVE = set([\"!\",\"(\",\")\",\":\",\".\",\";\",\",\",'\"',\"?\",\"-\",\">\",\"_\"])\n",
    "\n",
    "\n",
    "df = pd.read_csv('../Goodreads_visualization/goodreads_export.csv')\n",
    "cleaned_df = df[df[\"My Rating\"] != 0]\n",
    "\n",
    "\n",
    "html_clean = re.compile('<.*?>')\n",
    "gr_clean = re.compile('\\[.*?\\]')\n",
    "\n",
    "all_my_words = []\n",
    "\n",
    "reviews = cleaned_df[\"My Review\"]\n",
    "\n",
    "num_reviews = 0\n",
    "num_words = 0\n",
    "for row in reviews:\n",
    "    if pd.isnull(row):\n",
    "        continue\n",
    "    review = row.lower()\n",
    "    if not review:\n",
    "        # empty review\n",
    "        continue\n",
    "    # clean strings\n",
    "    cleaned_review = re.sub(html_clean, '', review)\n",
    "    cleaned_review = re.sub(gr_clean, '', cleaned_review)\n",
    "    new_review = []\n",
    "    for x in cleaned_review.split(' '):\n",
    "        if x in STOP: continue\n",
    "        if x in REMOVE: continue\n",
    "        new_review.append(x)\n",
    "    new_review = ' '.join(new_review)\n",
    "    \n",
    "    all_my_words += new_review.split('.')\n",
    "    num_reviews += 1\n",
    "\n"
   ]
  },
  {
   "cell_type": "markdown",
   "metadata": {},
   "source": [
    "let's put these sentences into a dumb text file for the helper, just as an example"
   ]
  },
  {
   "cell_type": "code",
   "execution_count": 2,
   "metadata": {
    "collapsed": false
   },
   "outputs": [],
   "source": [
    "text = open('simple_text.txt','w')\n",
    "for element in all_my_words:\n",
    "    text.write('%s.\\n'%element)"
   ]
  },
  {
   "cell_type": "code",
   "execution_count": 3,
   "metadata": {
    "collapsed": true
   },
   "outputs": [],
   "source": [
    "from gensim.models.word2vec import LineSentence\n",
    "sentences = LineSentence(text.name) \n",
    "model = Word2Vec(sentences, size=100, window=4, min_count=5)"
   ]
  },
  {
   "cell_type": "code",
   "execution_count": 4,
   "metadata": {
    "collapsed": false
   },
   "outputs": [
    {
     "data": {
      "text/plain": [
       "['conflict',\n",
       " 'tl;dr:',\n",
       " 'happens,',\n",
       " 'bigger',\n",
       " 'beings',\n",
       " 'follow',\n",
       " 'autobiographical',\n",
       " 'physics',\n",
       " 'plants',\n",
       " 'that.']"
      ]
     },
     "execution_count": 4,
     "metadata": {},
     "output_type": "execute_result"
    }
   ],
   "source": [
    "vocab = list(model.vocab.keys())\n",
    "vocab[:10]"
   ]
  },
  {
   "cell_type": "code",
   "execution_count": 5,
   "metadata": {
    "collapsed": false,
    "scrolled": false
   },
   "outputs": [
    {
     "data": {
      "text/plain": [
       "array([-0.04364882,  0.01218516,  0.02984365,  0.0189836 , -0.0040897 ,\n",
       "       -0.00702506, -0.03719029, -0.00576912, -0.01221709,  0.01394837,\n",
       "        0.02006117,  0.01816414, -0.0237357 , -0.00043981, -0.0312383 ,\n",
       "        0.05759643,  0.01351326,  0.00485509,  0.0088673 ,  0.016808  ,\n",
       "       -0.01702482,  0.02560344,  0.03845643, -0.02906455, -0.02112594,\n",
       "        0.06471273, -0.01047337,  0.00408711,  0.01766499, -0.06039624,\n",
       "       -0.01705225,  0.00545794, -0.05654757, -0.01940105, -0.00322259,\n",
       "       -0.04134371, -0.01240082, -0.02602724, -0.02442959,  0.02350066,\n",
       "       -0.02641289,  0.03504264, -0.07274401, -0.06001317,  0.00030515,\n",
       "        0.00207467, -0.03791371, -0.0291484 ,  0.03586698, -0.01052047,\n",
       "       -0.00760663, -0.07050049,  0.01915456,  0.0158729 , -0.05636143,\n",
       "        0.01042592,  0.06466943, -0.03875178,  0.00187885, -0.01829127,\n",
       "       -0.02453492, -0.00095082, -0.00251121, -0.00375087, -0.01929978,\n",
       "        0.03831878,  0.00684139,  0.01833739, -0.0478404 , -0.00691863,\n",
       "       -0.03452635, -0.06226481,  0.01558501,  0.03225938, -0.02639584,\n",
       "        0.00181659,  0.03641381, -0.01479362,  0.03315267,  0.02216571,\n",
       "        0.00886039,  0.04339559, -0.04976614,  0.055971  , -0.00256855,\n",
       "        0.01547225,  0.00230484,  0.07258302, -0.01560804,  0.01718033,\n",
       "       -0.01911945, -0.01983289, -0.02288598, -0.01858673,  0.03017294,\n",
       "       -0.03539522,  0.05072996,  0.03043543, -0.0285703 , -0.05576214], dtype=float32)"
      ]
     },
     "execution_count": 5,
     "metadata": {},
     "output_type": "execute_result"
    }
   ],
   "source": [
    "model['physics']"
   ]
  },
  {
   "cell_type": "code",
   "execution_count": 6,
   "metadata": {
    "collapsed": false
   },
   "outputs": [
    {
     "data": {
      "text/plain": [
       "[('heard', 0.9963386058807373),\n",
       " ('different', 0.9962173104286194),\n",
       " ('less', 0.996184229850769),\n",
       " ('much', 0.9961718916893005),\n",
       " ('since', 0.9961559176445007),\n",
       " ('still', 0.9961557984352112),\n",
       " ('one', 0.9961556196212769),\n",
       " ('author', 0.9961490035057068),\n",
       " ('life', 0.9961462616920471),\n",
       " ('book', 0.9961449503898621)]"
      ]
     },
     "execution_count": 6,
     "metadata": {},
     "output_type": "execute_result"
    }
   ],
   "source": [
    "model.most_similar_cosmul(positive=['nazis', 'japan'])"
   ]
  },
  {
   "cell_type": "code",
   "execution_count": 7,
   "metadata": {
    "collapsed": false
   },
   "outputs": [
    {
     "data": {
      "text/plain": [
       "0.99938475840589036"
      ]
     },
     "execution_count": 7,
     "metadata": {},
     "output_type": "execute_result"
    }
   ],
   "source": [
    "model.similarity('book', 'novel')"
   ]
  },
  {
   "cell_type": "markdown",
   "metadata": {},
   "source": [
    "Exciting! Are other pairs more dissimilar?"
   ]
  },
  {
   "cell_type": "code",
   "execution_count": 8,
   "metadata": {
    "collapsed": false
   },
   "outputs": [],
   "source": [
    "import random\n",
    "similarities = []\n",
    "for i in range(1,100):\n",
    "    one, other = random.choice(vocab), random.choice(vocab)\n",
    "\n",
    "    similarities.append(model.similarity(one, other))"
   ]
  },
  {
   "cell_type": "code",
   "execution_count": 9,
   "metadata": {
    "collapsed": false,
    "scrolled": true
   },
   "outputs": [
    {
     "data": {
      "text/plain": [
       "(0.97200139288438703, 0.98653839373891627)"
      ]
     },
     "execution_count": 9,
     "metadata": {},
     "output_type": "execute_result"
    }
   ],
   "source": [
    "np.mean(similarities), np.median(similarities)"
   ]
  },
  {
   "cell_type": "markdown",
   "metadata": {},
   "source": [
    "Welp that's not good. I guess the training corpus is too small..."
   ]
  },
  {
   "cell_type": "code",
   "execution_count": 10,
   "metadata": {
    "collapsed": false
   },
   "outputs": [
    {
     "data": {
      "text/plain": [
       "array([[-0.44096267,  0.14858514,  0.33488178, ...,  0.26933965,\n",
       "        -0.26353747, -0.61263335],\n",
       "       [-0.47162831,  0.15806818,  0.35611743, ...,  0.28268066,\n",
       "        -0.27941144, -0.65455848],\n",
       "       [-0.45950916,  0.15856725,  0.3489753 , ...,  0.2835128 ,\n",
       "        -0.27623516, -0.65082961],\n",
       "       ..., \n",
       "       [-0.02997145,  0.01089431,  0.02267819, ...,  0.01820225,\n",
       "        -0.01799692, -0.03656889],\n",
       "       [-0.02102503,  0.00167518,  0.00973162, ...,  0.01310334,\n",
       "        -0.00701845, -0.02317399],\n",
       "       [-0.02542675,  0.00471604,  0.01489844, ...,  0.01777519,\n",
       "        -0.01282489, -0.03231811]], dtype=float32)"
      ]
     },
     "execution_count": 10,
     "metadata": {},
     "output_type": "execute_result"
    }
   ],
   "source": [
    "model.syn0"
   ]
  },
  {
   "cell_type": "markdown",
   "metadata": {},
   "source": [
    "The above are the weights you can use in embeddings\n",
    "\n",
    "-----------------------\n",
    "\n",
    "Now let's look at DNA!"
   ]
  },
  {
   "cell_type": "code",
   "execution_count": 11,
   "metadata": {
    "collapsed": true
   },
   "outputs": [],
   "source": [
    "import dna2vec"
   ]
  },
  {
   "cell_type": "markdown",
   "metadata": {},
   "source": [
    "First a look at how dna2vec does it:"
   ]
  },
  {
   "cell_type": "code",
   "execution_count": 12,
   "metadata": {
    "collapsed": false
   },
   "outputs": [],
   "source": [
    "class Learner:\n",
    "    def __init__(self, out_fileroot, context_halfsize, gensim_iters, vec_dim):\n",
    "        self.logger = logbook.Logger(self.__class__.__name__)\n",
    "        assert(word2vec.FAST_VERSION >= 0)\n",
    "        self.logger.info('word2vec.FAST_VERSION (should be >= 0): {}'.format(word2vec.FAST_VERSION))\n",
    "        self.model = None\n",
    "        self.out_fileroot = out_fileroot\n",
    "        self.context_halfsize = context_halfsize\n",
    "        self.gensim_iters = gensim_iters\n",
    "        self.use_skipgram = 1\n",
    "        self.vec_dim = vec_dim\n",
    "\n",
    "        self.logger.info('Context window half size: {}'.format(self.context_halfsize))\n",
    "        self.logger.info('Use skipgram: {}'.format(self.use_skipgram))\n",
    "        self.logger.info('gensim_iters: {}'.format(self.gensim_iters))\n",
    "        self.logger.info('vec_dim: {}'.format(self.vec_dim))\n",
    "\n",
    "    def train(self, kmer_seq_generator):\n",
    "        self.model = word2vec.Word2Vec(\n",
    "            sentences=kmer_seq_generator,\n",
    "            size=self.vec_dim,\n",
    "            window=self.context_halfsize,\n",
    "            min_count=5,\n",
    "            workers=4,\n",
    "            sg=self.use_skipgram,\n",
    "            iter=self.gensim_iters)\n",
    "\n",
    "        # self.logger.info(model.vocab)\n",
    "\n",
    "    def write_vec(self):\n",
    "        out_filename = '{}.w2v'.format(self.out_fileroot)\n",
    "        self.model.save_word2vec_format(out_filename, binary=False)\n"
   ]
  },
  {
   "cell_type": "markdown",
   "metadata": {},
   "source": [
    "--------------------------------\n",
    "\n",
    "The trained table looks like this (some random input data from my projects)\n",
    "\n",
    "    1344 12\n",
    "    AAA 0.798623 0.340167 -0.106002 0.479023 -0.512316 -0.204932 -0.909642 0.929776 -0.526895 -0.487418 0.652579 -0.041673\n",
    "    TTT -0.430355 0.507353 0.204868 -0.396864 0.594459 -0.879607 -0.070906 1.065970 -0.216547 0.540595 0.742848 -0.213119\n",
    "    AAAA 0.916474 0.360498 -0.201165 0.450726 -0.627372 -0.232655 -1.043633 1.079020 -0.585594 -0.505746 0.719241 0.046239\n",
    "    TTTT -0.604012 0.578508 0.240181 -0.476954 0.605583 -0.960840 -0.079009 1.184651 -0.243861 0.608393 0.795853 -0.286772\n",
    "    TTTTT -0.625304 0.602461 0.296689 -0.482694 0.649928 -0.997988 -0.065473 1.091690 -0.250700 0.741902 0.868796 -0.313275\n",
    "    AAAAA 1.029531 0.364190 -0.265436 0.437347 -0.723385 -0.299899 -1.087821 1.122777 -0.636950 -0.578345 0.761875 0.069213\n",
    "    ATT -0.490559 0.496848 -0.300972 -0.190906 0.170407 -0.613530 -0.456763 0.833760 -0.632226 0.541257 0.759477 -0.018878\n",
    "    AAT 0.028495 0.360433 -0.458956 0.125764 -0.013972 -0.417648 -0.925049 0.953009 -0.534955 -0.186829 0.600540 0.346013\n",
    "\n",
    "\n",
    "Now load this into python, and later Keras"
   ]
  },
  {
   "cell_type": "code",
   "execution_count": 13,
   "metadata": {
    "collapsed": true
   },
   "outputs": [],
   "source": [
    "from gensim.models import word2vec\n",
    "word_vectors = word2vec.Word2Vec.load_word2vec_format('./dna2vec-20170621-0833-k3to5-12d-4c-6Mbp-sliding-nqR.w2v')"
   ]
  },
  {
   "cell_type": "code",
   "execution_count": 14,
   "metadata": {
    "collapsed": false
   },
   "outputs": [
    {
     "data": {
      "text/plain": [
       "array([[ 0.79862303,  0.34016699, -0.106002  , ..., -0.487418  ,\n",
       "         0.65257901, -0.041673  ],\n",
       "       [-0.43035501,  0.50735301,  0.204868  , ...,  0.540595  ,\n",
       "         0.74284798, -0.213119  ],\n",
       "       [ 0.91647398,  0.36049801, -0.20116501, ..., -0.50574601,\n",
       "         0.71924102,  0.046239  ],\n",
       "       ..., \n",
       "       [ 0.76107103,  0.83726299, -0.28360999, ...,  0.170651  ,\n",
       "         0.103405  , -0.71069998],\n",
       "       [ 0.89855403,  0.8168    , -0.37794799, ...,  0.32508701,\n",
       "         0.61397099, -0.39332399],\n",
       "       [ 0.814578  ,  0.86901098, -0.498676  , ...,  0.21636599,\n",
       "         0.474002  , -0.49750999]], dtype=float32)"
      ]
     },
     "execution_count": 14,
     "metadata": {},
     "output_type": "execute_result"
    }
   ],
   "source": [
    "word_vectors.syn0"
   ]
  },
  {
   "cell_type": "markdown",
   "metadata": {},
   "source": [
    "That's the weights for Keras!"
   ]
  },
  {
   "cell_type": "code",
   "execution_count": 15,
   "metadata": {
    "collapsed": false
   },
   "outputs": [
    {
     "data": {
      "text/plain": [
       "(1344, 12)"
      ]
     },
     "execution_count": 15,
     "metadata": {},
     "output_type": "execute_result"
    }
   ],
   "source": [
    "word_vectors.syn0.shape"
   ]
  },
  {
   "cell_type": "code",
   "execution_count": 16,
   "metadata": {
    "collapsed": false,
    "scrolled": true
   },
   "outputs": [
    {
     "data": {
      "text/plain": [
       "[('AAAAA', 0.6307621002197266),\n",
       " ('AAAA', 0.6196656227111816),\n",
       " ('AAAGG', 0.597085177898407),\n",
       " ('GAAAA', 0.5835936069488525),\n",
       " ('AGGAA', 0.5639663338661194),\n",
       " ('AAAAG', 0.5594942569732666),\n",
       " ('CAAAA', 0.5461493730545044),\n",
       " ('GAAA', 0.5357614159584045),\n",
       " ('AAAAC', 0.5209873914718628),\n",
       " ('GGAAA', 0.5187864303588867)]"
      ]
     },
     "execution_count": 16,
     "metadata": {},
     "output_type": "execute_result"
    }
   ],
   "source": [
    "word_vectors.most_similar(positive=['AAA'], negative=['TTT'])"
   ]
  },
  {
   "cell_type": "code",
   "execution_count": 17,
   "metadata": {
    "collapsed": false,
    "scrolled": true
   },
   "outputs": [
    {
     "data": {
      "text/plain": [
       "[('AAAA', 0.997001051902771),\n",
       " ('AAAAA', 0.9936331510543823),\n",
       " ('AATAA', 0.9240623712539673),\n",
       " ('TAAAA', 0.9036520719528198),\n",
       " ('TAAA', 0.8960134983062744),\n",
       " ('GAAAA', 0.8902114629745483),\n",
       " ('AAAT', 0.8800619840621948),\n",
       " ('AAAAT', 0.8783645629882812),\n",
       " ('GAAA', 0.8714821338653564),\n",
       " ('CAAAA', 0.869722843170166)]"
      ]
     },
     "execution_count": 17,
     "metadata": {},
     "output_type": "execute_result"
    }
   ],
   "source": [
    "word_vectors.most_similar(positive=['AAA'])"
   ]
  },
  {
   "cell_type": "code",
   "execution_count": 18,
   "metadata": {
    "collapsed": false
   },
   "outputs": [
    {
     "data": {
      "text/plain": [
       "0.37256660513788192"
      ]
     },
     "execution_count": 18,
     "metadata": {},
     "output_type": "execute_result"
    }
   ],
   "source": [
    "word_vectors.similarity('AGAAT','AAGTA')"
   ]
  },
  {
   "cell_type": "markdown",
   "metadata": {},
   "source": [
    "More promising! At least no 99% as above....\n",
    "\n",
    "----------------\n",
    "\n",
    "Let's compare with Needleman Wunsch, an alignment algorithm"
   ]
  },
  {
   "cell_type": "code",
   "execution_count": 19,
   "metadata": {
    "collapsed": false
   },
   "outputs": [
    {
     "data": {
      "text/plain": [
       "[('AGAA-T-', '--AAGTA', 3.0, 0, 7),\n",
       " ('AGAA-T-', 'A--AGTA', 3.0, 0, 7),\n",
       " ('AGAA-T-', 'A-A-GTA', 3.0, 0, 7),\n",
       " ('AGAAT-', 'A-AGTA', 3.0, 0, 6),\n",
       " ('A-GAAT-', 'AAG--TA', 3.0, 0, 7),\n",
       " ('-AGAAT-', 'AAG--TA', 3.0, 0, 7),\n",
       " ('AGA--AT', 'A-AGTA-', 3.0, 0, 7),\n",
       " ('A-GA-AT', 'AAG-TA-', 3.0, 0, 7),\n",
       " ('-AGA-AT', 'AAG-TA-', 3.0, 0, 7),\n",
       " ('A-GAAT', 'AAGTA-', 3.0, 0, 6),\n",
       " ('-AGAAT', 'AAGTA-', 3.0, 0, 6),\n",
       " ('A-G-AAT', 'AAGTA--', 3.0, 0, 7),\n",
       " ('-AG-AAT', 'AAGTA--', 3.0, 0, 7)]"
      ]
     },
     "execution_count": 19,
     "metadata": {},
     "output_type": "execute_result"
    }
   ],
   "source": [
    "from Bio import pairwise2\n",
    "pairwise2.align.globalxx(\"AGAAT\", \"AAGTA\")"
   ]
  },
  {
   "cell_type": "code",
   "execution_count": 20,
   "metadata": {
    "collapsed": false
   },
   "outputs": [
    {
     "data": {
      "text/plain": [
       "0.42857142857142855"
      ]
     },
     "execution_count": 20,
     "metadata": {},
     "output_type": "execute_result"
    }
   ],
   "source": [
    "3.0/7"
   ]
  },
  {
   "cell_type": "markdown",
   "metadata": {},
   "source": [
    "Kind of close? 42 % to 37%...."
   ]
  },
  {
   "cell_type": "code",
   "execution_count": 21,
   "metadata": {
    "collapsed": false
   },
   "outputs": [],
   "source": [
    "from datasketch import MinHash\n",
    "import random\n",
    "nws = []\n",
    "sims = []\n",
    "sketches = []\n",
    "counter = 0\n",
    "outside_counter = 0\n",
    "\n",
    "keys = list(word_vectors.vocab.keys())\n",
    "for i in range(1,1000):\n",
    "    #print(word_vectors.vocab.keys())\n",
    "    a = random.choice(keys)\n",
    "    b = random.choice(keys)\n",
    "    if a == b: continue\n",
    "    if len(a) != len(b) != 5: continue\n",
    "    # get similarity via needleman-wunsch\n",
    "    new_score = pairwise2.align.globalxx(a, b)[0]\n",
    "    # ('CCAC--T', '-CA-AAT', 3.0, 0, 7)\n",
    "    score, length = new_score[2], new_score[-1]\n",
    "    score += 1\n",
    "\n",
    "    nws.append(score)\n",
    "\n",
    "    # get from dna2vec\n",
    "    similarity = word_vectors.similarity(a, b) # 0.3\n",
    "    sims.append(similarity)\n",
    "\n",
    "    # get from minhash\n",
    "    m1, m2 = MinHash(), MinHash()\n",
    "    for d in a:\n",
    "        m1.update(d.encode('utf8'))\n",
    "    for d in b:\n",
    "        m2.update(d.encode('utf8'))\n",
    "    jaccard = m1.jaccard(m2)\n",
    "\n",
    "    sketches.append(jaccard)"
   ]
  },
  {
   "cell_type": "code",
   "execution_count": 22,
   "metadata": {
    "collapsed": false,
    "scrolled": false
   },
   "outputs": [
    {
     "data": {
      "image/png": "[encoded data removed]",
      "text/plain": [
       "<matplotlib.figure.Figure at 0x7f9cb84d7390>"
      ]
     },
     "metadata": {},
     "output_type": "display_data"
    }
   ],
   "source": [
    "import seaborn as sns\n",
    "import pandas as pd\n",
    "df = pd.DataFrame({'Needleman-Wunsch':nws, 'word2vec':sims})\n",
    "%matplotlib inline\n",
    "sns.violinplot(x='Needleman-Wunsch', y='word2vec', data=df);"
   ]
  },
  {
   "cell_type": "code",
   "execution_count": 23,
   "metadata": {
    "collapsed": false,
    "scrolled": true
   },
   "outputs": [
    {
     "name": "stdout",
     "output_type": "stream",
     "text": [
      "(0.56349529488269878, 8.1995876166950893e-67) (0.36794933682099384, 1.6412258535730304e-26) (0.58753323639906052, 7.53441334922914e-74)\n"
     ]
    }
   ],
   "source": [
    "import scipy\n",
    "print(scipy.stats.pearsonr(nws, sims), scipy.stats.pearsonr(sketches, sims), scipy.stats.pearsonr(nws, sketches))"
   ]
  },
  {
   "cell_type": "markdown",
   "metadata": {},
   "source": [
    "wat. was expecting something higher. Let's try t-SNE"
   ]
  },
  {
   "cell_type": "code",
   "execution_count": 24,
   "metadata": {
    "collapsed": false
   },
   "outputs": [
    {
     "name": "stdout",
     "output_type": "stream",
     "text": [
      "[[ 0.66542101  0.42612901  1.34680104]\n",
      " [ 0.064367   -0.31294    -1.25506902]\n",
      " [ 0.160436    1.071401    0.58047998]]\n"
     ]
    },
    {
     "data": {
      "image/png": "[encoded data removed]",
      "text/plain": [
       "<matplotlib.figure.Figure at 0x7f9c7c0ec630>"
      ]
     },
     "metadata": {},
     "output_type": "display_data"
    }
   ],
   "source": [
    "from sklearn.manifold import TSNE\n",
    "import matplotlib.pyplot as plt\n",
    "\n",
    "X = word_vectors[word_vectors.vocab]\n",
    "print(X[0:3,0:3])\n",
    "\n",
    "tsne = TSNE(n_components=2)\n",
    "X_tsne = tsne.fit_transform(X)\n",
    "plt.scatter(X_tsne[:, 0], X_tsne[:, 1])\n",
    "plt.show()"
   ]
  },
  {
   "cell_type": "markdown",
   "metadata": {},
   "source": [
    "Let's load the pretrained huge wordvectors from the paper (trained on human genome)"
   ]
  },
  {
   "cell_type": "code",
   "execution_count": 25,
   "metadata": {
    "collapsed": false
   },
   "outputs": [],
   "source": [
    "word_vectors = word2vec.Word2Vec.load_word2vec_format('./dna2vec/pretrained/dna2vec-20161219-0153-k3to8-100d-10c-29320Mbp-sliding-Xat.w2v')"
   ]
  },
  {
   "cell_type": "code",
   "execution_count": 26,
   "metadata": {
    "collapsed": false,
    "scrolled": true
   },
   "outputs": [
    {
     "name": "stdout",
     "output_type": "stream",
     "text": [
      "Needleman Wunsch vs word2vec similarities: 0.686388108395, \n",
      "      MinHash vs word2vec similarities: 0.206541506047,\n",
      "      Needleman Wunsch vs MinHash: 0.355628053032,\n",
      "      MinHash vs. Cosine Similarity: 0.206541513644,\n",
      "      Needleman Wunsch vs Cosine Similarity: 0.686388136538,\n",
      "      word2vec vs Cosine Similarity: 1.0\n"
     ]
    }
   ],
   "source": [
    "from sklearn.metrics.pairwise import cosine_similarity\n",
    "\n",
    "nws = []\n",
    "sims = []\n",
    "sketches = []\n",
    "cosines = []\n",
    "counter = 0\n",
    "outside_counter = 0\n",
    "\n",
    "for a in word_vectors.vocab:\n",
    "    # a = ACCG, GGGGT, TGT, CAG, .....\n",
    "    \n",
    "    for b in word_vectors.vocab:\n",
    "        if a == b:\n",
    "            continue\n",
    "        if len(a) + len(b) != 16:\n",
    "            continue\n",
    "            \n",
    "        # get similarity via needleman-wunsch\n",
    "        new_score = pairwise2.align.globalxx(a, b)[0]\n",
    "        # ('CCAC--T', '-CA-AAT', 3.0, 0, 7)\n",
    "        score, length = new_score[2], new_score[-1]\n",
    "        new_score = score/length # 3 / 7 = 0.42\n",
    "        nws.append(new_score)\n",
    "        \n",
    "        # get from cosine similarity\n",
    "        cosine = cosine_similarity(word_vectors[a].reshape(1,-1), word_vectors[b].reshape(1,-1))[0][0]\n",
    "        cosines.append(cosine)\n",
    "        \n",
    "        # get from dna2vec\n",
    "        similarity = word_vectors.similarity(a, b) # 0.3\n",
    "        sims.append(similarity)\n",
    "        \n",
    "        # get from minhash\n",
    "        m1, m2 = MinHash(), MinHash()\n",
    "        for d in a:\n",
    "            m1.update(d.encode('utf8'))\n",
    "        for d in b:\n",
    "            m2.update(d.encode('utf8'))\n",
    "        jaccard = m1.jaccard(m2)\n",
    "\n",
    "        sketches.append(jaccard)\n",
    "        counter += 1\n",
    "\n",
    "        if counter >= 300:\n",
    "            break\n",
    "    outside_counter += 1\n",
    "    if outside_counter == 300:\n",
    "        break\n",
    "        \n",
    "print('''Needleman Wunsch vs word2vec similarities: %s, \n",
    "      MinHash vs word2vec similarities: %s,\n",
    "      Needleman Wunsch vs MinHash: %s,\n",
    "      MinHash vs. Cosine Similarity: %s,\n",
    "      Needleman Wunsch vs Cosine Similarity: %s,\n",
    "      word2vec vs Cosine Similarity: %s'''%(\n",
    "      scipy.stats.pearsonr(nws, sims)[0], \n",
    "      scipy.stats.pearsonr(sketches, sims)[0], \n",
    "      scipy.stats.pearsonr(nws, sketches)[0], \n",
    "      scipy.stats.pearsonr(sketches, cosines)[0],\n",
    "      scipy.stats.pearsonr(nws, cosines)[0],\n",
    "      scipy.stats.pearsonr(sims, cosines)[0]\n",
    "))"
   ]
  },
  {
   "cell_type": "markdown",
   "metadata": {},
   "source": [
    "Now check the first NEIGHBOR only"
   ]
  },
  {
   "cell_type": "code",
   "execution_count": 27,
   "metadata": {
    "collapsed": false,
    "scrolled": true
   },
   "outputs": [
    {
     "name": "stdout",
     "output_type": "stream",
     "text": [
      "Sequence CCCGAGCG Neighbor ('CCGAGCGG', 0.9343637824058533)\n",
      "Needleman Wunsch: 8.0\n",
      "-------\n",
      "Sequence GGCAGTTC Neighbor ('GGGCAGTT', 0.8873528242111206)\n",
      "Needleman Wunsch: 8.0\n",
      "-------\n",
      "Sequence TGGATCAT Neighbor ('GGATCATG', 0.8870929479598999)\n",
      "Needleman Wunsch: 8.0\n",
      "-------\n",
      "Sequence TATTTTAC Neighbor ('TATTTACC', 0.9073293805122375)\n",
      "Needleman Wunsch: 8.0\n",
      "-------\n",
      "Sequence ATTATTTT Neighbor ('TTATTTTT', 0.9108741283416748)\n",
      "Needleman Wunsch: 8.0\n",
      "-------\n"
     ]
    },
    {
     "data": {
      "text/plain": [
       "SpearmanrResult(correlation=0.031372767299137877, pvalue=0.32139571068676243)"
      ]
     },
     "execution_count": 27,
     "metadata": {},
     "output_type": "execute_result"
    }
   ],
   "source": [
    "counter = 0\n",
    "nws = []\n",
    "w2v = []\n",
    "sketches = []\n",
    "\n",
    "for a in word_vectors.vocab:\n",
    "    if len(a) != 8: continue\n",
    "        \n",
    "    neighbors = word_vectors.most_similar_cosmul(a)\n",
    "    neighbor = ''\n",
    "    for  n in neighbors:\n",
    "        # n = ('CTTTCCT', 0.929522693157196)\n",
    "        if len(n[0]) == len(a):\n",
    "            neighbor = n\n",
    "            break\n",
    "    if not neighbor: \n",
    "        continue\n",
    "    \n",
    "    new_score = pairwise2.align.globalxx(a, neighbor[0])[0]\n",
    "    # ('CCAC--T', '-CA-AAT', 3.0, 0, 7)\n",
    "    score, length = new_score[2], new_score[-1]\n",
    "    score += 1\n",
    "    if counter < 5:\n",
    "        print('Sequence %s Neighbor %s'%(a, neighbor))\n",
    "        print('Needleman Wunsch: %s'%score)\n",
    "        print('-------')\n",
    "    nws.append(score)\n",
    "    other_score = neighbor[1]\n",
    "    w2v.append(other_score)\n",
    "    \n",
    "    # get from minhash\n",
    "    m1, m2 = MinHash(), MinHash()\n",
    "    for d in a:\n",
    "        m1.update(d.encode('utf8'))\n",
    "    for d in neighbor[0]:\n",
    "        m2.update(d.encode('utf8'))\n",
    "    jaccard = m1.jaccard(m2)\n",
    "\n",
    "    sketches.append(float('%.1f'%jaccard))\n",
    "    \n",
    "    if counter == 1000:\n",
    "        break\n",
    "    counter += 1\n",
    "\n",
    "scipy.stats.spearmanr(nws, w2v)"
   ]
  },
  {
   "cell_type": "code",
   "execution_count": 28,
   "metadata": {
    "collapsed": false,
    "scrolled": true
   },
   "outputs": [
    {
     "data": {
      "image/png": "[encoded data removed]",
      "text/plain": [
       "<matplotlib.figure.Figure at 0x7f9c7edc4b70>"
      ]
     },
     "metadata": {},
     "output_type": "display_data"
    }
   ],
   "source": [
    "df = pd.DataFrame({'Needleman-Wunsch':nws, 'dna2vec cosine':w2v, 'MinHash':sketches})\n",
    "sns.violinplot(x='Needleman-Wunsch', y='dna2vec cosine', data=df, scale='count');\n"
   ]
  },
  {
   "cell_type": "code",
   "execution_count": 29,
   "metadata": {
    "collapsed": false,
    "scrolled": true
   },
   "outputs": [
    {
     "data": {
      "image/png": "[encoded data removed]",
      "text/plain": [
       "<matplotlib.figure.Figure at 0x7f9c7ede7710>"
      ]
     },
     "metadata": {},
     "output_type": "display_data"
    }
   ],
   "source": [
    "g = sns.violinplot(x='MinHash', y='dna2vec cosine', data=df, scale='count');"
   ]
  },
  {
   "cell_type": "markdown",
   "metadata": {},
   "source": [
    "Niiiiiiiiiice. So for close neighbors MinHash and Needleman-Wunsch seem to correlate, but not for distant neighbors, interesting"
   ]
  },
  {
   "cell_type": "code",
   "execution_count": 30,
   "metadata": {
    "collapsed": false
   },
   "outputs": [
    {
     "data": {
      "text/html": [
       "<div>\n",
       "<table border=\"1\" class=\"dataframe\">\n",
       "  <thead>\n",
       "    <tr style=\"text-align: right;\">\n",
       "      <th></th>\n",
       "      <th>MinHash</th>\n",
       "      <th>Needleman-Wunsch</th>\n",
       "      <th>dna2vec cosine</th>\n",
       "    </tr>\n",
       "  </thead>\n",
       "  <tbody>\n",
       "    <tr>\n",
       "      <th>count</th>\n",
       "      <td>1001.000000</td>\n",
       "      <td>1001.000000</td>\n",
       "      <td>1001.000000</td>\n",
       "    </tr>\n",
       "    <tr>\n",
       "      <th>mean</th>\n",
       "      <td>0.969231</td>\n",
       "      <td>7.952048</td>\n",
       "      <td>0.893590</td>\n",
       "    </tr>\n",
       "    <tr>\n",
       "      <th>std</th>\n",
       "      <td>0.087363</td>\n",
       "      <td>0.244332</td>\n",
       "      <td>0.023324</td>\n",
       "    </tr>\n",
       "    <tr>\n",
       "      <th>min</th>\n",
       "      <td>0.500000</td>\n",
       "      <td>6.000000</td>\n",
       "      <td>0.844451</td>\n",
       "    </tr>\n",
       "    <tr>\n",
       "      <th>25%</th>\n",
       "      <td>1.000000</td>\n",
       "      <td>8.000000</td>\n",
       "      <td>0.876462</td>\n",
       "    </tr>\n",
       "    <tr>\n",
       "      <th>50%</th>\n",
       "      <td>1.000000</td>\n",
       "      <td>8.000000</td>\n",
       "      <td>0.891155</td>\n",
       "    </tr>\n",
       "    <tr>\n",
       "      <th>75%</th>\n",
       "      <td>1.000000</td>\n",
       "      <td>8.000000</td>\n",
       "      <td>0.907355</td>\n",
       "    </tr>\n",
       "    <tr>\n",
       "      <th>max</th>\n",
       "      <td>1.000000</td>\n",
       "      <td>8.000000</td>\n",
       "      <td>0.972721</td>\n",
       "    </tr>\n",
       "  </tbody>\n",
       "</table>\n",
       "</div>"
      ],
      "text/plain": [
       "           MinHash  Needleman-Wunsch  dna2vec cosine\n",
       "count  1001.000000       1001.000000     1001.000000\n",
       "mean      0.969231          7.952048        0.893590\n",
       "std       0.087363          0.244332        0.023324\n",
       "min       0.500000          6.000000        0.844451\n",
       "25%       1.000000          8.000000        0.876462\n",
       "50%       1.000000          8.000000        0.891155\n",
       "75%       1.000000          8.000000        0.907355\n",
       "max       1.000000          8.000000        0.972721"
      ]
     },
     "execution_count": 30,
     "metadata": {},
     "output_type": "execute_result"
    }
   ],
   "source": [
    "df.describe()"
   ]
  },
  {
   "cell_type": "markdown",
   "metadata": {},
   "source": [
    "Welp that's weird. By now I think that neighbors in the dna2vec space don't necessarily have to be related by their bases.\n",
    "\n",
    "TO CHECK:\n",
    "- what are the neighbors that have low NW scores? Are they functionally related, or are their sequences conserved? Can I find conservation islands this way?\n",
    "- why is it that close neighbors have better NW/MinHash score correlation than distant neighbors?"
   ]
  },
  {
   "cell_type": "code",
   "execution_count": 31,
   "metadata": {
    "collapsed": false,
    "scrolled": true
   },
   "outputs": [
    {
     "name": "stderr",
     "output_type": "stream",
     "text": [
      "Using TensorFlow backend.\n"
     ]
    },
    {
     "data": {
      "text/plain": [
       "<keras.layers.embeddings.Embedding at 0x7f9c7edd98d0>"
      ]
     },
     "execution_count": 31,
     "metadata": {},
     "output_type": "execute_result"
    }
   ],
   "source": [
    "weights = word_vectors.syn0\n",
    "\n",
    "from keras.layers import Embedding\n",
    "from keras.engine import Input\n",
    "\n",
    "layer = Embedding(input_dim=weights.shape[0], output_dim=weights.shape[1], weights=[weights], trainable=False)\n",
    "layer"
   ]
  },
  {
   "cell_type": "markdown",
   "metadata": {},
   "source": [
    "IMPORTANT to set trainable to False, else Keras is allowed to change our word2vec input weights!"
   ]
  },
  {
   "cell_type": "markdown",
   "metadata": {
    "collapsed": true
   },
   "source": [
    "We can either use an LSTM or convolutional layers here.\n",
    "\n",
    "https://blog.keras.io/using-pre-trained-word-embeddings-in-a-keras-model.html"
   ]
  },
  {
   "cell_type": "code",
   "execution_count": null,
   "metadata": {
    "collapsed": true
   },
   "outputs": [],
   "source": []
  }
 ],
 "metadata": {
  "kernelspec": {
   "display_name": "Python 3",
   "language": "python",
   "name": "python3"
  },
  "language_info": {
   "codemirror_mode": {
    "name": "ipython",
    "version": 3
   },
   "file_extension": ".py",
   "mimetype": "text/x-python",
   "name": "python",
   "nbconvert_exporter": "python",
   "pygments_lexer": "ipython3",
   "version": "3.5.3"
  }
 },
 "nbformat": 4,
 "nbformat_minor": 2
}
