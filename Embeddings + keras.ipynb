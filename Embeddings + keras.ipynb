{
 "cells": [
  {
   "cell_type": "markdown",
   "metadata": {},
   "source": [
    "First, let's do word2vec with 'normal' text"
   ]
  },
  {
   "cell_type": "code",
   "execution_count": 1,
   "metadata": {
    "collapsed": false
   },
   "outputs": [],
   "source": [
    "from gensim.models.word2vec import Word2Vec\n",
    "from gensim.models import word2vec\n",
    "import pandas as pd\n",
    "import re\n",
    "import string\n",
    "from nltk.corpus import stopwords\n",
    "import numpy as np \n",
    "\n",
    "STOP = set(stopwords.words(\"english\"))\n",
    "REMOVE = set([\"!\",\"(\",\")\",\":\",\".\",\";\",\",\",'\"',\"?\",\"-\",\">\",\"_\"])\n",
    "\n",
    "\n",
    "df = pd.read_csv('../Goodreads_visualization/goodreads_export.csv')\n",
    "cleaned_df = df[df[\"My Rating\"] != 0]\n",
    "\n",
    "\n",
    "html_clean = re.compile('<.*?>')\n",
    "gr_clean = re.compile('\\[.*?\\]')\n",
    "\n",
    "all_my_words = []\n",
    "\n",
    "reviews = cleaned_df[\"My Review\"]\n",
    "\n",
    "num_reviews = 0\n",
    "num_words = 0\n",
    "for row in reviews:\n",
    "    if pd.isnull(row):\n",
    "        continue\n",
    "    review = row.lower()\n",
    "    if not review:\n",
    "        # empty review\n",
    "        continue\n",
    "    # clean strings\n",
    "    cleaned_review = re.sub(html_clean, '', review)\n",
    "    cleaned_review = re.sub(gr_clean, '', cleaned_review)\n",
    "    new_review = []\n",
    "    for x in cleaned_review.split(' '):\n",
    "        if x in STOP: continue\n",
    "        if x in REMOVE: continue\n",
    "        new_review.append(x)\n",
    "    new_review = ' '.join(new_review)\n",
    "    \n",
    "    all_my_words += new_review.split('.')\n",
    "    num_reviews += 1\n",
    "\n"
   ]
  },
  {
   "cell_type": "markdown",
   "metadata": {},
   "source": [
    "let's put these sentences into a dumb text file for the helper, just as an example"
   ]
  },
  {
   "cell_type": "code",
   "execution_count": 2,
   "metadata": {
    "collapsed": false
   },
   "outputs": [],
   "source": [
    "text = open('simple_text.txt','w')\n",
    "for element in all_my_words:\n",
    "    text.write('%s.\\n'%element)"
   ]
  },
  {
   "cell_type": "code",
   "execution_count": 3,
   "metadata": {
    "collapsed": true
   },
   "outputs": [],
   "source": [
    "from gensim.models.word2vec import LineSentence\n",
    "sentences = LineSentence(text.name) \n",
    "model = Word2Vec(sentences, size=100, window=4, min_count=5)"
   ]
  },
  {
   "cell_type": "code",
   "execution_count": 4,
   "metadata": {
    "collapsed": false
   },
   "outputs": [
    {
     "data": {
      "text/plain": [
       "['place.',\n",
       " 'working',\n",
       " 'feature',\n",
       " 'red',\n",
       " 'culture',\n",
       " 'lovecraft',\n",
       " 'atrocities',\n",
       " 'woman',\n",
       " 'humans.',\n",
       " 'history,']"
      ]
     },
     "execution_count": 4,
     "metadata": {},
     "output_type": "execute_result"
    }
   ],
   "source": [
    "vocab = list(model.vocab.keys())\n",
    "vocab[:10]"
   ]
  },
  {
   "cell_type": "code",
   "execution_count": 5,
   "metadata": {
    "collapsed": false,
    "scrolled": false
   },
   "outputs": [
    {
     "data": {
      "text/plain": [
       "array([-0.04386406, -0.00664345, -0.0111011 ,  0.00807764,  0.00940352,\n",
       "        0.02228665,  0.02111006,  0.01377305, -0.02576272,  0.06060861,\n",
       "       -0.01213756,  0.00648657, -0.00407041,  0.01797904, -0.0066773 ,\n",
       "        0.01156041,  0.01632014, -0.03236828,  0.01411689,  0.03464568,\n",
       "        0.06568839,  0.00991315,  0.00927083, -0.00119727, -0.00233628,\n",
       "        0.00863518, -0.01534289, -0.0019151 ,  0.00632924,  0.00934827,\n",
       "        0.03083786,  0.03212395, -0.01177953,  0.03820723,  0.02940774,\n",
       "       -0.00879973, -0.00013764, -0.05812924,  0.04790548, -0.03574824,\n",
       "       -0.02127828,  0.01771845,  0.00401292,  0.00801567, -0.00193886,\n",
       "       -0.01517351,  0.03167219, -0.01736261,  0.01867411,  0.02189473,\n",
       "       -0.01668282, -0.06108521,  0.02652378,  0.04865605,  0.05635593,\n",
       "       -0.00794288, -0.00546741, -0.01095106, -0.01113557, -0.01039258,\n",
       "        0.01228636,  0.00791698,  0.0223285 ,  0.0420778 ,  0.00331359,\n",
       "       -0.00335144,  0.02445231, -0.03273616,  0.00666736, -0.03778988,\n",
       "        0.04398762, -0.04486303,  0.02700024, -0.00767442, -0.02151456,\n",
       "        0.08153036, -0.02673054,  0.02441404,  0.03290805,  0.00220791,\n",
       "        0.02972639, -0.05511519, -0.00347397,  0.01275733, -0.01296321,\n",
       "        0.01561757,  0.05387384, -0.04729179, -0.03474081, -0.01831458,\n",
       "        0.01824743,  0.03950611,  0.07051844, -0.02849635,  0.01512654,\n",
       "       -0.03242262,  0.00232498, -0.01095737,  0.02805263, -0.03036539], dtype=float32)"
      ]
     },
     "execution_count": 5,
     "metadata": {},
     "output_type": "execute_result"
    }
   ],
   "source": [
    "model['physics']"
   ]
  },
  {
   "cell_type": "code",
   "execution_count": 6,
   "metadata": {
    "collapsed": false
   },
   "outputs": [
    {
     "data": {
      "text/plain": [
       "[('human', 0.9973308444023132),\n",
       " ('long', 0.9973297119140625),\n",
       " (\"can't\", 0.9973005056381226),\n",
       " ('also', 0.9972720146179199),\n",
       " ('one', 0.9972640872001648),\n",
       " ('everything', 0.9972580671310425),\n",
       " ('make', 0.997255265712738),\n",
       " ('say', 0.9972541928291321),\n",
       " ('see', 0.9972491264343262),\n",
       " ('even', 0.9972369074821472)]"
      ]
     },
     "execution_count": 6,
     "metadata": {},
     "output_type": "execute_result"
    }
   ],
   "source": [
    "model.most_similar_cosmul(positive=['nazis', 'japan'])"
   ]
  },
  {
   "cell_type": "code",
   "execution_count": 7,
   "metadata": {
    "collapsed": false
   },
   "outputs": [
    {
     "data": {
      "text/plain": [
       "0.99947700215529822"
      ]
     },
     "execution_count": 7,
     "metadata": {},
     "output_type": "execute_result"
    }
   ],
   "source": [
    "model.similarity('book', 'novel')"
   ]
  },
  {
   "cell_type": "markdown",
   "metadata": {},
   "source": [
    "Exciting! Are other pairs more dissimilar?"
   ]
  },
  {
   "cell_type": "code",
   "execution_count": 8,
   "metadata": {
    "collapsed": false
   },
   "outputs": [],
   "source": [
    "import random\n",
    "similarities = []\n",
    "for i in range(1,100):\n",
    "    one, other = random.choice(vocab), random.choice(vocab)\n",
    "\n",
    "    similarities.append(model.similarity(one, other))"
   ]
  },
  {
   "cell_type": "code",
   "execution_count": 9,
   "metadata": {
    "collapsed": false,
    "scrolled": true
   },
   "outputs": [
    {
     "data": {
      "text/plain": [
       "(0.98412305755367857, 0.99033939796568382)"
      ]
     },
     "execution_count": 9,
     "metadata": {},
     "output_type": "execute_result"
    }
   ],
   "source": [
    "np.mean(similarities), np.median(similarities)"
   ]
  },
  {
   "cell_type": "markdown",
   "metadata": {},
   "source": [
    "Welp that's not good. I guess the training corpus is too small..."
   ]
  },
  {
   "cell_type": "code",
   "execution_count": 10,
   "metadata": {
    "collapsed": false
   },
   "outputs": [
    {
     "data": {
      "text/plain": [
       "array([[-0.52289468, -0.12497054, -0.09582639, ..., -0.13814031,\n",
       "         0.29921183, -0.38262042],\n",
       "       [-0.54874837, -0.13276088, -0.0974936 , ..., -0.14808282,\n",
       "         0.30739063, -0.3975099 ],\n",
       "       [-0.55785996, -0.13656744, -0.10423251, ..., -0.14752895,\n",
       "         0.31727597, -0.40973583],\n",
       "       ..., \n",
       "       [-0.03932277, -0.00871692, -0.0061787 , ..., -0.00861673,\n",
       "         0.02353065, -0.0240522 ],\n",
       "       [-0.02067771, -0.00228776, -0.0044879 , ..., -0.0041086 ,\n",
       "         0.00977977, -0.01687659],\n",
       "       [-0.02672722, -0.01032651, -0.0056387 , ..., -0.0027582 ,\n",
       "         0.0102199 , -0.01747557]], dtype=float32)"
      ]
     },
     "execution_count": 10,
     "metadata": {},
     "output_type": "execute_result"
    }
   ],
   "source": [
    "model.syn0"
   ]
  },
  {
   "cell_type": "markdown",
   "metadata": {},
   "source": [
    "The above are the weights you can use in embeddings\n",
    "\n",
    "-----------------------\n",
    "\n",
    "Now let's look at DNA!"
   ]
  },
  {
   "cell_type": "code",
   "execution_count": 11,
   "metadata": {
    "collapsed": true
   },
   "outputs": [],
   "source": [
    "import dna2vec"
   ]
  },
  {
   "cell_type": "markdown",
   "metadata": {},
   "source": [
    "First a look at how dna2vec does it:"
   ]
  },
  {
   "cell_type": "code",
   "execution_count": 12,
   "metadata": {
    "collapsed": false
   },
   "outputs": [],
   "source": [
    "class Learner:\n",
    "    def __init__(self, out_fileroot, context_halfsize, gensim_iters, vec_dim):\n",
    "        self.logger = logbook.Logger(self.__class__.__name__)\n",
    "        assert(word2vec.FAST_VERSION >= 0)\n",
    "        self.logger.info('word2vec.FAST_VERSION (should be >= 0): {}'.format(word2vec.FAST_VERSION))\n",
    "        self.model = None\n",
    "        self.out_fileroot = out_fileroot\n",
    "        self.context_halfsize = context_halfsize\n",
    "        self.gensim_iters = gensim_iters\n",
    "        self.use_skipgram = 1\n",
    "        self.vec_dim = vec_dim\n",
    "\n",
    "        self.logger.info('Context window half size: {}'.format(self.context_halfsize))\n",
    "        self.logger.info('Use skipgram: {}'.format(self.use_skipgram))\n",
    "        self.logger.info('gensim_iters: {}'.format(self.gensim_iters))\n",
    "        self.logger.info('vec_dim: {}'.format(self.vec_dim))\n",
    "\n",
    "    def train(self, kmer_seq_generator):\n",
    "        self.model = word2vec.Word2Vec(\n",
    "            sentences=kmer_seq_generator,\n",
    "            size=self.vec_dim,\n",
    "            window=self.context_halfsize,\n",
    "            min_count=5,\n",
    "            workers=4,\n",
    "            sg=self.use_skipgram,\n",
    "            iter=self.gensim_iters)\n",
    "\n",
    "        # self.logger.info(model.vocab)\n",
    "\n",
    "    def write_vec(self):\n",
    "        out_filename = '{}.w2v'.format(self.out_fileroot)\n",
    "        self.model.save_word2vec_format(out_filename, binary=False)\n"
   ]
  },
  {
   "cell_type": "markdown",
   "metadata": {},
   "source": [
    "--------------------------------\n",
    "\n",
    "The trained table looks like this (some random input data from my projects)\n",
    "\n",
    "    1344 12\n",
    "    AAA 0.798623 0.340167 -0.106002 0.479023 -0.512316 -0.204932 -0.909642 0.929776 -0.526895 -0.487418 0.652579 -0.041673\n",
    "    TTT -0.430355 0.507353 0.204868 -0.396864 0.594459 -0.879607 -0.070906 1.065970 -0.216547 0.540595 0.742848 -0.213119\n",
    "    AAAA 0.916474 0.360498 -0.201165 0.450726 -0.627372 -0.232655 -1.043633 1.079020 -0.585594 -0.505746 0.719241 0.046239\n",
    "    TTTT -0.604012 0.578508 0.240181 -0.476954 0.605583 -0.960840 -0.079009 1.184651 -0.243861 0.608393 0.795853 -0.286772\n",
    "    TTTTT -0.625304 0.602461 0.296689 -0.482694 0.649928 -0.997988 -0.065473 1.091690 -0.250700 0.741902 0.868796 -0.313275\n",
    "    AAAAA 1.029531 0.364190 -0.265436 0.437347 -0.723385 -0.299899 -1.087821 1.122777 -0.636950 -0.578345 0.761875 0.069213\n",
    "    ATT -0.490559 0.496848 -0.300972 -0.190906 0.170407 -0.613530 -0.456763 0.833760 -0.632226 0.541257 0.759477 -0.018878\n",
    "    AAT 0.028495 0.360433 -0.458956 0.125764 -0.013972 -0.417648 -0.925049 0.953009 -0.534955 -0.186829 0.600540 0.346013\n",
    "\n",
    "\n",
    "Now load this into python, and later Keras"
   ]
  },
  {
   "cell_type": "code",
   "execution_count": 13,
   "metadata": {
    "collapsed": true
   },
   "outputs": [],
   "source": [
    "from gensim.models import word2vec\n",
    "word_vectors = word2vec.Word2Vec.load_word2vec_format('./dna2vec-20170621-0833-k3to5-12d-4c-6Mbp-sliding-nqR.w2v')"
   ]
  },
  {
   "cell_type": "code",
   "execution_count": 14,
   "metadata": {
    "collapsed": false
   },
   "outputs": [
    {
     "data": {
      "text/plain": [
       "array([[ 0.79862303,  0.34016699, -0.106002  , ..., -0.487418  ,\n",
       "         0.65257901, -0.041673  ],\n",
       "       [-0.43035501,  0.50735301,  0.204868  , ...,  0.540595  ,\n",
       "         0.74284798, -0.213119  ],\n",
       "       [ 0.91647398,  0.36049801, -0.20116501, ..., -0.50574601,\n",
       "         0.71924102,  0.046239  ],\n",
       "       ..., \n",
       "       [ 0.76107103,  0.83726299, -0.28360999, ...,  0.170651  ,\n",
       "         0.103405  , -0.71069998],\n",
       "       [ 0.89855403,  0.8168    , -0.37794799, ...,  0.32508701,\n",
       "         0.61397099, -0.39332399],\n",
       "       [ 0.814578  ,  0.86901098, -0.498676  , ...,  0.21636599,\n",
       "         0.474002  , -0.49750999]], dtype=float32)"
      ]
     },
     "execution_count": 14,
     "metadata": {},
     "output_type": "execute_result"
    }
   ],
   "source": [
    "word_vectors.syn0"
   ]
  },
  {
   "cell_type": "markdown",
   "metadata": {},
   "source": [
    "That's the weights for Keras!"
   ]
  },
  {
   "cell_type": "code",
   "execution_count": 15,
   "metadata": {
    "collapsed": false
   },
   "outputs": [
    {
     "data": {
      "text/plain": [
       "(1344, 12)"
      ]
     },
     "execution_count": 15,
     "metadata": {},
     "output_type": "execute_result"
    }
   ],
   "source": [
    "word_vectors.syn0.shape"
   ]
  },
  {
   "cell_type": "code",
   "execution_count": 16,
   "metadata": {
    "collapsed": false,
    "scrolled": true
   },
   "outputs": [
    {
     "data": {
      "text/plain": [
       "[('AAAAA', 0.6307621002197266),\n",
       " ('AAAA', 0.6196656227111816),\n",
       " ('AAAGG', 0.597085177898407),\n",
       " ('GAAAA', 0.5835936069488525),\n",
       " ('AGGAA', 0.5639663338661194),\n",
       " ('AAAAG', 0.5594942569732666),\n",
       " ('CAAAA', 0.5461493730545044),\n",
       " ('GAAA', 0.5357614159584045),\n",
       " ('AAAAC', 0.5209873914718628),\n",
       " ('GGAAA', 0.5187864303588867)]"
      ]
     },
     "execution_count": 16,
     "metadata": {},
     "output_type": "execute_result"
    }
   ],
   "source": [
    "word_vectors.most_similar(positive=['AAA'], negative=['TTT'])"
   ]
  },
  {
   "cell_type": "code",
   "execution_count": 17,
   "metadata": {
    "collapsed": false,
    "scrolled": true
   },
   "outputs": [
    {
     "data": {
      "text/plain": [
       "[('AAAA', 0.997001051902771),\n",
       " ('AAAAA', 0.9936331510543823),\n",
       " ('AATAA', 0.9240623712539673),\n",
       " ('TAAAA', 0.9036520719528198),\n",
       " ('TAAA', 0.8960134983062744),\n",
       " ('GAAAA', 0.8902114629745483),\n",
       " ('AAAT', 0.8800619840621948),\n",
       " ('AAAAT', 0.8783645629882812),\n",
       " ('GAAA', 0.8714821338653564),\n",
       " ('CAAAA', 0.869722843170166)]"
      ]
     },
     "execution_count": 17,
     "metadata": {},
     "output_type": "execute_result"
    }
   ],
   "source": [
    "word_vectors.most_similar(positive=['AAA'])"
   ]
  },
  {
   "cell_type": "code",
   "execution_count": 18,
   "metadata": {
    "collapsed": false
   },
   "outputs": [
    {
     "data": {
      "text/plain": [
       "0.37256660513788192"
      ]
     },
     "execution_count": 18,
     "metadata": {},
     "output_type": "execute_result"
    }
   ],
   "source": [
    "word_vectors.similarity('AGAAT','AAGTA')"
   ]
  },
  {
   "cell_type": "markdown",
   "metadata": {},
   "source": [
    "More promising! At least no 99% as above....\n",
    "\n",
    "----------------\n",
    "\n",
    "Let's compare with Needleman Wunsch, an alignment algorithm"
   ]
  },
  {
   "cell_type": "code",
   "execution_count": 19,
   "metadata": {
    "collapsed": false
   },
   "outputs": [
    {
     "data": {
      "text/plain": [
       "[('AGAA-T-', '--AAGTA', 3.0, 0, 7),\n",
       " ('AGAA-T-', 'A--AGTA', 3.0, 0, 7),\n",
       " ('AGAA-T-', 'A-A-GTA', 3.0, 0, 7),\n",
       " ('AGAAT-', 'A-AGTA', 3.0, 0, 6),\n",
       " ('A-GAAT-', 'AAG--TA', 3.0, 0, 7),\n",
       " ('-AGAAT-', 'AAG--TA', 3.0, 0, 7),\n",
       " ('AGA--AT', 'A-AGTA-', 3.0, 0, 7),\n",
       " ('A-GA-AT', 'AAG-TA-', 3.0, 0, 7),\n",
       " ('-AGA-AT', 'AAG-TA-', 3.0, 0, 7),\n",
       " ('A-GAAT', 'AAGTA-', 3.0, 0, 6),\n",
       " ('-AGAAT', 'AAGTA-', 3.0, 0, 6),\n",
       " ('A-G-AAT', 'AAGTA--', 3.0, 0, 7),\n",
       " ('-AG-AAT', 'AAGTA--', 3.0, 0, 7)]"
      ]
     },
     "execution_count": 19,
     "metadata": {},
     "output_type": "execute_result"
    }
   ],
   "source": [
    "from Bio import pairwise2\n",
    "pairwise2.align.globalxx(\"AGAAT\", \"AAGTA\")"
   ]
  },
  {
   "cell_type": "code",
   "execution_count": 20,
   "metadata": {
    "collapsed": false
   },
   "outputs": [
    {
     "data": {
      "text/plain": [
       "0.42857142857142855"
      ]
     },
     "execution_count": 20,
     "metadata": {},
     "output_type": "execute_result"
    }
   ],
   "source": [
    "3.0/7"
   ]
  },
  {
   "cell_type": "markdown",
   "metadata": {},
   "source": [
    "Kind of close? 42 % to 37%...."
   ]
  },
  {
   "cell_type": "code",
   "execution_count": 21,
   "metadata": {
    "collapsed": false
   },
   "outputs": [],
   "source": [
    "from datasketch import MinHash\n",
    "nws = []\n",
    "sims = []\n",
    "sketches = []\n",
    "counter = 0\n",
    "\n",
    "\n",
    "for a in word_vectors.vocab:\n",
    "    # a = ACCG, GGGGT, TGT, CAG, .....\n",
    "    for b in word_vectors.vocab:\n",
    "        if a == b: continue\n",
    "        if len(a) != len(b) != 5: continue\n",
    "        # get similarity via needleman-wunsch\n",
    "        new_score = pairwise2.align.globalxx(a, b)[0]\n",
    "        # ('CCAC--T', '-CA-AAT', 3.0, 0, 7)\n",
    "        score, length = new_score[2], new_score[-1]\n",
    "        new_score = score/length # 3 / 7 = 0.42\n",
    "        nws.append(new_score)\n",
    "        \n",
    "        # get from dna2vec\n",
    "        similarity = word_vectors.similarity(a, b) # 0.3\n",
    "        sims.append(similarity)\n",
    "        \n",
    "        # get from minhash\n",
    "        m1, m2 = MinHash(), MinHash()\n",
    "        for d in a:\n",
    "            m1.update(d.encode('utf8'))\n",
    "        for d in b:\n",
    "            m2.update(d.encode('utf8'))\n",
    "        jaccard = m1.jaccard(m2)\n",
    "\n",
    "        sketches.append(jaccard)\n",
    "\n",
    "    counter += 1\n",
    "    if counter == 50: break\n",
    "        \n"
   ]
  },
  {
   "cell_type": "code",
   "execution_count": 22,
   "metadata": {
    "collapsed": false,
    "scrolled": false
   },
   "outputs": [
    {
     "data": {
      "image/png": "[encoded data removed]",
      "text/plain": [
       "<matplotlib.figure.Figure at 0x7f864ca0c5f8>"
      ]
     },
     "metadata": {},
     "output_type": "display_data"
    }
   ],
   "source": [
    "import seaborn as sns\n",
    "\n",
    "%matplotlib inline\n",
    "sns.jointplot(np.abs(nws), np.abs(sims), kind='reg');"
   ]
  },
  {
   "cell_type": "code",
   "execution_count": 23,
   "metadata": {
    "collapsed": false,
    "scrolled": true
   },
   "outputs": [
    {
     "name": "stdout",
     "output_type": "stream",
     "text": [
      "(0.5707546835750622, 0.0) (0.33194102484414023, 0.0) (0.52315774054162578, 0.0)\n"
     ]
    }
   ],
   "source": [
    "import scipy\n",
    "print(scipy.stats.pearsonr(nws, sims), scipy.stats.pearsonr(sketches, sims), scipy.stats.pearsonr(nws, sketches))"
   ]
  },
  {
   "cell_type": "markdown",
   "metadata": {},
   "source": [
    "wat. was expecting something higher. Let's try t-SNE"
   ]
  },
  {
   "cell_type": "code",
   "execution_count": 24,
   "metadata": {
    "collapsed": false
   },
   "outputs": [
    {
     "name": "stdout",
     "output_type": "stream",
     "text": [
      "[[-0.37565899  1.86668599 -0.299402  ]\n",
      " [ 1.23346996  0.52555102 -0.34560901]\n",
      " [ 1.57789898  0.87037301  0.009357  ]]\n"
     ]
    },
    {
     "data": {
      "image/png": "[encoded data removed]",
      "text/plain": [
       "<matplotlib.figure.Figure at 0x7f8637177b38>"
      ]
     },
     "metadata": {},
     "output_type": "display_data"
    }
   ],
   "source": [
    "from sklearn.manifold import TSNE\n",
    "import matplotlib.pyplot as plt\n",
    "\n",
    "X = word_vectors[word_vectors.vocab]\n",
    "print(X[0:3,0:3])\n",
    "\n",
    "tsne = TSNE(n_components=2)\n",
    "X_tsne = tsne.fit_transform(X)\n",
    "plt.scatter(X_tsne[:, 0], X_tsne[:, 1])\n",
    "plt.show()"
   ]
  },
  {
   "cell_type": "markdown",
   "metadata": {},
   "source": [
    "Let's load the pretrained huge wordvectors from the paper (trained on human genome)"
   ]
  },
  {
   "cell_type": "code",
   "execution_count": 25,
   "metadata": {
    "collapsed": false
   },
   "outputs": [],
   "source": [
    "word_vectors = word2vec.Word2Vec.load_word2vec_format('./dna2vec/pretrained/dna2vec-20161219-0153-k3to8-100d-10c-29320Mbp-sliding-Xat.w2v')"
   ]
  },
  {
   "cell_type": "code",
   "execution_count": 26,
   "metadata": {
    "collapsed": false,
    "scrolled": true
   },
   "outputs": [
    {
     "name": "stdout",
     "output_type": "stream",
     "text": [
      "Needleman Wunsch vs word2vec similarities: 0.179544630876, \n",
      "      MinHash vs word2vec similarities: 0.151658325855,\n",
      "      Needleman Wunsch vs MinHash: 0.496287724799,\n",
      "      MinHash vs. Cosine Similarity: 0.1516583206,\n",
      "      Needleman Wunsch vs Cosine Similarity: 0.179544620618,\n",
      "      word2vec vs Cosine Similarity: 1.0\n"
     ]
    }
   ],
   "source": [
    "from sklearn.metrics.pairwise import cosine_similarity\n",
    "\n",
    "nws = []\n",
    "sims = []\n",
    "sketches = []\n",
    "cosines = []\n",
    "counter = 0\n",
    "outside_counter = 0\n",
    "\n",
    "for a in word_vectors.vocab:\n",
    "    # a = ACCG, GGGGT, TGT, CAG, .....\n",
    "    \n",
    "    for b in word_vectors.vocab:\n",
    "        if a == b:\n",
    "            continue\n",
    "        if len(a) + len(b) != 16:\n",
    "            continue\n",
    "            \n",
    "        # get similarity via needleman-wunsch\n",
    "        new_score = pairwise2.align.globalxx(a, b)[0]\n",
    "        # ('CCAC--T', '-CA-AAT', 3.0, 0, 7)\n",
    "        score, length = new_score[2], new_score[-1]\n",
    "        new_score = score/length # 3 / 7 = 0.42\n",
    "        nws.append(new_score)\n",
    "        \n",
    "        # get from cosine similarity\n",
    "        cosine = cosine_similarity(word_vectors[a].reshape(1,-1), word_vectors[b].reshape(1,-1))[0][0]\n",
    "        cosines.append(cosine)\n",
    "        \n",
    "        # get from dna2vec\n",
    "        similarity = word_vectors.similarity(a, b) # 0.3\n",
    "        sims.append(similarity)\n",
    "        \n",
    "        # get from minhash\n",
    "        m1, m2 = MinHash(), MinHash()\n",
    "        for d in a:\n",
    "            m1.update(d.encode('utf8'))\n",
    "        for d in b:\n",
    "            m2.update(d.encode('utf8'))\n",
    "        jaccard = m1.jaccard(m2)\n",
    "\n",
    "        sketches.append(jaccard)\n",
    "        counter += 1\n",
    "\n",
    "        if counter >= 300:\n",
    "            break\n",
    "    outside_counter += 1\n",
    "    if outside_counter == 300:\n",
    "        break\n",
    "        \n",
    "print('''Needleman Wunsch vs word2vec similarities: %s, \n",
    "      MinHash vs word2vec similarities: %s,\n",
    "      Needleman Wunsch vs MinHash: %s,\n",
    "      MinHash vs. Cosine Similarity: %s,\n",
    "      Needleman Wunsch vs Cosine Similarity: %s,\n",
    "      word2vec vs Cosine Similarity: %s'''%(\n",
    "      scipy.stats.pearsonr(nws, sims)[0], \n",
    "      scipy.stats.pearsonr(sketches, sims)[0], \n",
    "      scipy.stats.pearsonr(nws, sketches)[0], \n",
    "      scipy.stats.pearsonr(sketches, cosines)[0],\n",
    "      scipy.stats.pearsonr(nws, cosines)[0],\n",
    "      scipy.stats.pearsonr(sims, cosines)[0]\n",
    "))"
   ]
  },
  {
   "cell_type": "markdown",
   "metadata": {},
   "source": [
    "Now check the first NEIGHBOR only"
   ]
  },
  {
   "cell_type": "code",
   "execution_count": 41,
   "metadata": {
    "collapsed": false,
    "scrolled": true
   },
   "outputs": [
    {
     "name": "stdout",
     "output_type": "stream",
     "text": [
      "Sequence TATGGTGA Neighbor ('ATATGGTG', 0.867331862449646)\n",
      "Needleman Wunsch: 8.0\n",
      "-------\n",
      "Sequence TCATTTAA Neighbor ('TCATTTTA', 0.9033498764038086)\n",
      "Needleman Wunsch: 8.0\n",
      "-------\n",
      "Sequence GAGAATTT Neighbor ('AGAGAATT', 0.9148901700973511)\n",
      "Needleman Wunsch: 8.0\n",
      "-------\n",
      "Sequence CTGTGGCA Neighbor ('CTGTGGGC', 0.8810147047042847)\n",
      "Needleman Wunsch: 8.0\n",
      "-------\n",
      "Sequence AGTTATTT Neighbor ('AGTTATTA', 0.8870768547058105)\n",
      "Needleman Wunsch: 8.0\n",
      "-------\n"
     ]
    },
    {
     "data": {
      "text/plain": [
       "SpearmanrResult(correlation=-0.028277186025830025, pvalue=0.37147653952414694)"
      ]
     },
     "execution_count": 41,
     "metadata": {},
     "output_type": "execute_result"
    }
   ],
   "source": [
    "counter = 0\n",
    "nws = []\n",
    "w2v = []\n",
    "sketches = []\n",
    "\n",
    "for a in word_vectors.vocab:\n",
    "    if len(a) != 8: continue\n",
    "        \n",
    "    neighbors = word_vectors.most_similar_cosmul(a)\n",
    "    neighbor = ''\n",
    "    for  n in neighbors:\n",
    "        # n = ('CTTTCCT', 0.929522693157196)\n",
    "        if len(n[0]) == len(a):\n",
    "            neighbor = n\n",
    "            break\n",
    "    if not neighbor: \n",
    "        continue\n",
    "    \n",
    "    new_score = pairwise2.align.globalxx(a, neighbor[0])[0]\n",
    "    # ('CCAC--T', '-CA-AAT', 3.0, 0, 7)\n",
    "    score, length = new_score[2], new_score[-1]\n",
    "    score += 1\n",
    "    if counter < 5:\n",
    "        print('Sequence %s Neighbor %s'%(a, neighbor))\n",
    "        print('Needleman Wunsch: %s'%score)\n",
    "        print('-------')\n",
    "    nws.append(score)\n",
    "    other_score = neighbor[1]\n",
    "    w2v.append(other_score)\n",
    "    \n",
    "    # get from minhash\n",
    "    m1, m2 = MinHash(), MinHash()\n",
    "    for d in a:\n",
    "        m1.update(d.encode('utf8'))\n",
    "    for d in neighbor[0]:\n",
    "        m2.update(d.encode('utf8'))\n",
    "    jaccard = m1.jaccard(m2)\n",
    "\n",
    "    sketches.append(float('%.1f'%jaccard))\n",
    "    \n",
    "    if counter == 1000:\n",
    "        break\n",
    "    counter += 1\n",
    "\n",
    "scipy.stats.spearmanr(nws, w2v)"
   ]
  },
  {
   "cell_type": "code",
   "execution_count": 42,
   "metadata": {
    "collapsed": false,
    "scrolled": true
   },
   "outputs": [
    {
     "data": {
      "image/png": "[encoded data removed]",
      "text/plain": [
       "<matplotlib.figure.Figure at 0x7f862a48fe10>"
      ]
     },
     "metadata": {},
     "output_type": "display_data"
    }
   ],
   "source": [
    "df = pd.DataFrame({'Needleman-Wunsch':nws, 'dna2vec cosine':w2v, 'MinHash':sketches})\n",
    "sns.violinplot(x='Needleman-Wunsch', y='dna2vec cosine', data=df, scale='count');\n"
   ]
  },
  {
   "cell_type": "code",
   "execution_count": 44,
   "metadata": {
    "collapsed": false,
    "scrolled": true
   },
   "outputs": [
    {
     "data": {
      "image/png": "[encoded data removed]",
      "text/plain": [
       "<matplotlib.figure.Figure at 0x7f862a3f4eb8>"
      ]
     },
     "metadata": {},
     "output_type": "display_data"
    }
   ],
   "source": [
    "g = sns.violinplot(x='MinHash', y='dna2vec cosine', data=df, scale='count');"
   ]
  },
  {
   "cell_type": "markdown",
   "metadata": {},
   "source": [
    "Niiiiiiiiiice. So for close neighbors MinHash and Needleman-Wunsch seem to correlate, but not for distant neighbors, interesting"
   ]
  },
  {
   "cell_type": "code",
   "execution_count": 32,
   "metadata": {
    "collapsed": false
   },
   "outputs": [
    {
     "data": {
      "text/html": [
       "<div>\n",
       "<table border=\"1\" class=\"dataframe\">\n",
       "  <thead>\n",
       "    <tr style=\"text-align: right;\">\n",
       "      <th></th>\n",
       "      <th>Needleman-Wunsch</th>\n",
       "      <th>dna2vec cosine</th>\n",
       "    </tr>\n",
       "  </thead>\n",
       "  <tbody>\n",
       "    <tr>\n",
       "      <th>count</th>\n",
       "      <td>1001.000000</td>\n",
       "      <td>1001.000000</td>\n",
       "    </tr>\n",
       "    <tr>\n",
       "      <th>mean</th>\n",
       "      <td>7.933067</td>\n",
       "      <td>0.894453</td>\n",
       "    </tr>\n",
       "    <tr>\n",
       "      <th>std</th>\n",
       "      <td>0.276614</td>\n",
       "      <td>0.023815</td>\n",
       "    </tr>\n",
       "    <tr>\n",
       "      <th>min</th>\n",
       "      <td>6.000000</td>\n",
       "      <td>0.843055</td>\n",
       "    </tr>\n",
       "    <tr>\n",
       "      <th>25%</th>\n",
       "      <td>8.000000</td>\n",
       "      <td>0.876794</td>\n",
       "    </tr>\n",
       "    <tr>\n",
       "      <th>50%</th>\n",
       "      <td>8.000000</td>\n",
       "      <td>0.891795</td>\n",
       "    </tr>\n",
       "    <tr>\n",
       "      <th>75%</th>\n",
       "      <td>8.000000</td>\n",
       "      <td>0.909297</td>\n",
       "    </tr>\n",
       "    <tr>\n",
       "      <th>max</th>\n",
       "      <td>8.000000</td>\n",
       "      <td>0.971373</td>\n",
       "    </tr>\n",
       "  </tbody>\n",
       "</table>\n",
       "</div>"
      ],
      "text/plain": [
       "       Needleman-Wunsch  dna2vec cosine\n",
       "count       1001.000000     1001.000000\n",
       "mean           7.933067        0.894453\n",
       "std            0.276614        0.023815\n",
       "min            6.000000        0.843055\n",
       "25%            8.000000        0.876794\n",
       "50%            8.000000        0.891795\n",
       "75%            8.000000        0.909297\n",
       "max            8.000000        0.971373"
      ]
     },
     "execution_count": 32,
     "metadata": {},
     "output_type": "execute_result"
    }
   ],
   "source": [
    "df.describe()"
   ]
  },
  {
   "cell_type": "markdown",
   "metadata": {},
   "source": [
    "Welp that's weird. By now I think that neighbors in the dna2vec space don't necessarily have to be related by their bases.\n",
    "\n",
    "TO CHECK:\n",
    "- what are the neighbors that have low NW scores? Are they functionally related, or are their sequences conserved? Can I find conservation islands this way?\n",
    "- why is it that close neighbors have better NW/MinHash score correlation than distant neighbors?"
   ]
  },
  {
   "cell_type": "code",
   "execution_count": 29,
   "metadata": {
    "collapsed": false,
    "scrolled": true
   },
   "outputs": [
    {
     "name": "stderr",
     "output_type": "stream",
     "text": [
      "Using TensorFlow backend.\n"
     ]
    },
    {
     "data": {
      "text/plain": [
       "<keras.layers.embeddings.Embedding at 0x7f864c99a940>"
      ]
     },
     "execution_count": 29,
     "metadata": {},
     "output_type": "execute_result"
    }
   ],
   "source": [
    "weights = word_vectors.syn0\n",
    "\n",
    "from keras.layers import Embedding\n",
    "from keras.engine import Input\n",
    "\n",
    "layer = Embedding(input_dim=weights.shape[0], output_dim=weights.shape[1], weights=[weights], trainable=False)\n",
    "layer"
   ]
  },
  {
   "cell_type": "markdown",
   "metadata": {},
   "source": [
    "IMPORTANT to set trainable to False, else Keras is allowed to change our word2vec input weights!"
   ]
  },
  {
   "cell_type": "markdown",
   "metadata": {
    "collapsed": true
   },
   "source": [
    "We can either use an LSTM or convolutional layers here.\n",
    "\n",
    "https://blog.keras.io/using-pre-trained-word-embeddings-in-a-keras-model.html"
   ]
  },
  {
   "cell_type": "code",
   "execution_count": null,
   "metadata": {
    "collapsed": true
   },
   "outputs": [],
   "source": []
  }
 ],
 "metadata": {
  "kernelspec": {
   "display_name": "Python 3",
   "language": "python",
   "name": "python3"
  },
  "language_info": {
   "codemirror_mode": {
    "name": "ipython",
    "version": 3
   },
   "file_extension": ".py",
   "mimetype": "text/x-python",
   "name": "python",
   "nbconvert_exporter": "python",
   "pygments_lexer": "ipython3",
   "version": "3.5.3"
  }
 },
 "nbformat": 4,
 "nbformat_minor": 2
}
