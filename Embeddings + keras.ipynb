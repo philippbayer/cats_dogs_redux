{
 "cells": [
  {
   "cell_type": "markdown",
   "metadata": {},
   "source": [
    "First, let's do word2vec with 'normal' text"
   ]
  },
  {
   "cell_type": "code",
   "execution_count": 1,
   "metadata": {
    "collapsed": false
   },
   "outputs": [],
   "source": [
    "from gensim.models.word2vec import Word2Vec\n",
    "import pandas as pd\n",
    "import re\n",
    "import string\n",
    "from nltk.corpus import stopwords\n",
    "import numpy as np \n",
    "\n",
    "STOP = set(stopwords.words(\"english\"))\n",
    "REMOVE = set([\"!\",\"(\",\")\",\":\",\".\",\";\",\",\",'\"',\"?\",\"-\",\">\",\"_\"])\n",
    "\n",
    "\n",
    "df = pd.read_csv('../Goodreads_visualization/goodreads_export.csv')\n",
    "cleaned_df = df[df[\"My Rating\"] != 0]\n",
    "\n",
    "\n",
    "html_clean = re.compile('<.*?>')\n",
    "gr_clean = re.compile('\\[.*?\\]')\n",
    "\n",
    "all_my_words = []\n",
    "\n",
    "reviews = cleaned_df[\"My Review\"]\n",
    "\n",
    "num_reviews = 0\n",
    "num_words = 0\n",
    "for row in reviews:\n",
    "    if pd.isnull(row):\n",
    "        continue\n",
    "    review = row.lower()\n",
    "    if not review:\n",
    "        # empty review\n",
    "        continue\n",
    "    # clean strings\n",
    "    cleaned_review = re.sub(html_clean, '', review)\n",
    "    cleaned_review = re.sub(gr_clean, '', cleaned_review)\n",
    "    new_review = []\n",
    "    for x in cleaned_review.split(' '):\n",
    "        if x in STOP: continue\n",
    "        if x in REMOVE: continue\n",
    "        new_review.append(x)\n",
    "    new_review = ' '.join(new_review)\n",
    "    \n",
    "    all_my_words += new_review.split('.')\n",
    "    num_reviews += 1\n",
    "\n"
   ]
  },
  {
   "cell_type": "markdown",
   "metadata": {},
   "source": [
    "let's put these sentences into a dumb text file for the helper, just as an example"
   ]
  },
  {
   "cell_type": "code",
   "execution_count": 2,
   "metadata": {
    "collapsed": false
   },
   "outputs": [],
   "source": [
    "text = open('simple_text.txt','w')\n",
    "for element in all_my_words:\n",
    "    text.write('%s.\\n'%element)"
   ]
  },
  {
   "cell_type": "code",
   "execution_count": 3,
   "metadata": {
    "collapsed": true
   },
   "outputs": [],
   "source": [
    "from gensim.models.word2vec import LineSentence\n",
    "sentences = LineSentence(text.name) \n",
    "model = Word2Vec(sentences, size=100, window=4, min_count=5)"
   ]
  },
  {
   "cell_type": "code",
   "execution_count": 4,
   "metadata": {
    "collapsed": false
   },
   "outputs": [
    {
     "data": {
      "text/plain": [
       "['food',\n",
       " 'level',\n",
       " 'years',\n",
       " \"what's\",\n",
       " 'credit',\n",
       " 'takes',\n",
       " 'tv',\n",
       " 'presented',\n",
       " 'influenced',\n",
       " 'fall']"
      ]
     },
     "execution_count": 4,
     "metadata": {},
     "output_type": "execute_result"
    }
   ],
   "source": [
    "vocab = list(model.vocab.keys())\n",
    "vocab[:10]"
   ]
  },
  {
   "cell_type": "code",
   "execution_count": 5,
   "metadata": {
    "collapsed": false,
    "scrolled": false
   },
   "outputs": [
    {
     "data": {
      "text/plain": [
       "array([-0.00910981,  0.05225955,  0.01556444,  0.00502409, -0.00848813,\n",
       "       -0.0011676 , -0.05202973,  0.01589951, -0.04232316, -0.02065809,\n",
       "       -0.02377729, -0.00737297, -0.03014947, -0.03005225,  0.03077345,\n",
       "       -0.04822937, -0.03739612,  0.03715361, -0.02295245, -0.04301846,\n",
       "       -0.01059509,  0.01874889,  0.03793839,  0.02350365, -0.02498374,\n",
       "        0.02244355,  0.03289476, -0.00225043,  0.01015353,  0.0221801 ,\n",
       "        0.03240864, -0.00431408,  0.00632796, -0.05089059,  0.0015172 ,\n",
       "        0.03663905, -0.01411877,  0.02265268, -0.00834962, -0.02513141,\n",
       "       -0.04246008,  0.03765322,  0.00825808, -0.04846755,  0.04404391,\n",
       "       -0.05974578, -0.00330305,  0.02296469,  0.01160901, -0.02297449,\n",
       "       -0.05515463, -0.01552832, -0.02610739, -0.00740219, -0.02867138,\n",
       "       -0.03560072,  0.0019131 , -0.02952752,  0.02868802,  0.01602238,\n",
       "       -0.02955702,  0.00297562,  0.03556133, -0.0545399 , -0.01748897,\n",
       "        0.05631272, -0.04494998,  0.03651061,  0.03232989,  0.00685529,\n",
       "        0.03722923,  0.00651891, -0.04557617, -0.01419696, -0.02118451,\n",
       "        0.01403233,  0.01080245, -0.05948152, -0.00363559,  0.04148914,\n",
       "       -0.0040862 ,  0.02663881,  0.04072735, -0.04351838,  0.07743846,\n",
       "        0.00183438,  0.01719652,  0.01379598, -0.04792916,  0.05894003,\n",
       "       -0.03086445, -0.01339185, -0.0386986 ,  0.00822925, -0.04193905,\n",
       "       -0.00383791,  0.03898349, -0.01524283,  0.05523056,  0.003905  ], dtype=float32)"
      ]
     },
     "execution_count": 5,
     "metadata": {},
     "output_type": "execute_result"
    }
   ],
   "source": [
    "model['physics']"
   ]
  },
  {
   "cell_type": "code",
   "execution_count": 6,
   "metadata": {
    "collapsed": false
   },
   "outputs": [
    {
     "data": {
      "text/plain": [
       "[('interesting', 0.9971619844436646),\n",
       " ('way', 0.9971379637718201),\n",
       " ('go', 0.9971293807029724),\n",
       " ('story', 0.9971188306808472),\n",
       " ('like', 0.9971010684967041),\n",
       " ('makes', 0.9971005320549011),\n",
       " ('good', 0.9970800280570984),\n",
       " ('make', 0.9970797896385193),\n",
       " ('book,', 0.9970742464065552),\n",
       " ('goes', 0.9970732927322388)]"
      ]
     },
     "execution_count": 6,
     "metadata": {},
     "output_type": "execute_result"
    }
   ],
   "source": [
    "model.most_similar_cosmul(positive=['nazis', 'japan'])"
   ]
  },
  {
   "cell_type": "code",
   "execution_count": 7,
   "metadata": {
    "collapsed": false
   },
   "outputs": [
    {
     "data": {
      "text/plain": [
       "0.99956988839838434"
      ]
     },
     "execution_count": 7,
     "metadata": {},
     "output_type": "execute_result"
    }
   ],
   "source": [
    "model.similarity('book', 'novel')"
   ]
  },
  {
   "cell_type": "markdown",
   "metadata": {},
   "source": [
    "Exciting! Are other pairs more dissimilar?"
   ]
  },
  {
   "cell_type": "code",
   "execution_count": 8,
   "metadata": {
    "collapsed": false
   },
   "outputs": [],
   "source": [
    "import random\n",
    "similarities = []\n",
    "for i in range(1,100):\n",
    "    one, other = random.choice(vocab), random.choice(vocab)\n",
    "\n",
    "    similarities.append(model.similarity(one, other))"
   ]
  },
  {
   "cell_type": "code",
   "execution_count": 9,
   "metadata": {
    "collapsed": false,
    "scrolled": true
   },
   "outputs": [
    {
     "data": {
      "text/plain": [
       "(0.97848684963354504, 0.98606267340579445)"
      ]
     },
     "execution_count": 9,
     "metadata": {},
     "output_type": "execute_result"
    }
   ],
   "source": [
    "np.mean(similarities), np.median(similarities)"
   ]
  },
  {
   "cell_type": "markdown",
   "metadata": {},
   "source": [
    "Welp that's not good. I guess the training corpus is too small..."
   ]
  },
  {
   "cell_type": "code",
   "execution_count": 10,
   "metadata": {
    "collapsed": false
   },
   "outputs": [
    {
     "data": {
      "text/plain": [
       "array([[-0.14619073,  0.6428169 ,  0.13869934, ..., -0.2274145 ,\n",
       "         0.58455908,  0.09795086],\n",
       "       [-0.14305744,  0.63126415,  0.13393968, ..., -0.22677232,\n",
       "         0.57674378,  0.08930847],\n",
       "       [-0.15186107,  0.66361606,  0.14117122, ..., -0.22867258,\n",
       "         0.60535407,  0.0958649 ],\n",
       "       ..., \n",
       "       [-0.00878393,  0.03533465,  0.00379133, ..., -0.0145077 ,\n",
       "         0.03893219,  0.00595292],\n",
       "       [-0.00219868,  0.02747078,  0.00660883, ..., -0.01193547,\n",
       "         0.02220338,  0.00928181],\n",
       "       [-0.00288511,  0.02789557,  0.00158484, ..., -0.00513259,\n",
       "         0.02021033,  0.00888412]], dtype=float32)"
      ]
     },
     "execution_count": 10,
     "metadata": {},
     "output_type": "execute_result"
    }
   ],
   "source": [
    "model.syn0"
   ]
  },
  {
   "cell_type": "markdown",
   "metadata": {},
   "source": [
    "The above are the weights you can use in embeddings\n",
    "\n",
    "-----------------------\n",
    "\n",
    "Now let's look at DNA!"
   ]
  },
  {
   "cell_type": "code",
   "execution_count": 11,
   "metadata": {
    "collapsed": true
   },
   "outputs": [],
   "source": [
    "import dna2vec"
   ]
  },
  {
   "cell_type": "markdown",
   "metadata": {},
   "source": [
    "First a look at how dna2vec does it:"
   ]
  },
  {
   "cell_type": "code",
   "execution_count": 12,
   "metadata": {
    "collapsed": false
   },
   "outputs": [],
   "source": [
    "class Learner:\n",
    "    def __init__(self, out_fileroot, context_halfsize, gensim_iters, vec_dim):\n",
    "        self.logger = logbook.Logger(self.__class__.__name__)\n",
    "        assert(word2vec.FAST_VERSION >= 0)\n",
    "        self.logger.info('word2vec.FAST_VERSION (should be >= 0): {}'.format(word2vec.FAST_VERSION))\n",
    "        self.model = None\n",
    "        self.out_fileroot = out_fileroot\n",
    "        self.context_halfsize = context_halfsize\n",
    "        self.gensim_iters = gensim_iters\n",
    "        self.use_skipgram = 1\n",
    "        self.vec_dim = vec_dim\n",
    "\n",
    "        self.logger.info('Context window half size: {}'.format(self.context_halfsize))\n",
    "        self.logger.info('Use skipgram: {}'.format(self.use_skipgram))\n",
    "        self.logger.info('gensim_iters: {}'.format(self.gensim_iters))\n",
    "        self.logger.info('vec_dim: {}'.format(self.vec_dim))\n",
    "\n",
    "    def train(self, kmer_seq_generator):\n",
    "        self.model = word2vec.Word2Vec(\n",
    "            sentences=kmer_seq_generator,\n",
    "            size=self.vec_dim,\n",
    "            window=self.context_halfsize,\n",
    "            min_count=5,\n",
    "            workers=4,\n",
    "            sg=self.use_skipgram,\n",
    "            iter=self.gensim_iters)\n",
    "\n",
    "        # self.logger.info(model.vocab)\n",
    "\n",
    "    def write_vec(self):\n",
    "        out_filename = '{}.w2v'.format(self.out_fileroot)\n",
    "        self.model.save_word2vec_format(out_filename, binary=False)\n"
   ]
  },
  {
   "cell_type": "markdown",
   "metadata": {},
   "source": [
    "--------------------------------\n",
    "\n",
    "The trained table looks like this (some random input data from my projects)\n",
    "\n",
    "    1344 12\n",
    "    AAA 0.798623 0.340167 -0.106002 0.479023 -0.512316 -0.204932 -0.909642 0.929776 -0.526895 -0.487418 0.652579 -0.041673\n",
    "    TTT -0.430355 0.507353 0.204868 -0.396864 0.594459 -0.879607 -0.070906 1.065970 -0.216547 0.540595 0.742848 -0.213119\n",
    "    AAAA 0.916474 0.360498 -0.201165 0.450726 -0.627372 -0.232655 -1.043633 1.079020 -0.585594 -0.505746 0.719241 0.046239\n",
    "    TTTT -0.604012 0.578508 0.240181 -0.476954 0.605583 -0.960840 -0.079009 1.184651 -0.243861 0.608393 0.795853 -0.286772\n",
    "    TTTTT -0.625304 0.602461 0.296689 -0.482694 0.649928 -0.997988 -0.065473 1.091690 -0.250700 0.741902 0.868796 -0.313275\n",
    "    AAAAA 1.029531 0.364190 -0.265436 0.437347 -0.723385 -0.299899 -1.087821 1.122777 -0.636950 -0.578345 0.761875 0.069213\n",
    "    ATT -0.490559 0.496848 -0.300972 -0.190906 0.170407 -0.613530 -0.456763 0.833760 -0.632226 0.541257 0.759477 -0.018878\n",
    "    AAT 0.028495 0.360433 -0.458956 0.125764 -0.013972 -0.417648 -0.925049 0.953009 -0.534955 -0.186829 0.600540 0.346013\n",
    "\n",
    "\n",
    "Now load this into python, and later Keras"
   ]
  },
  {
   "cell_type": "code",
   "execution_count": 13,
   "metadata": {
    "collapsed": true
   },
   "outputs": [],
   "source": [
    "from gensim.models import word2vec\n",
    "word_vectors = word2vec.Word2Vec.load_word2vec_format('./dna2vec-20170621-0833-k3to5-12d-4c-6Mbp-sliding-nqR.w2v')"
   ]
  },
  {
   "cell_type": "code",
   "execution_count": 14,
   "metadata": {
    "collapsed": false
   },
   "outputs": [
    {
     "data": {
      "text/plain": [
       "array([[ 0.79862303,  0.34016699, -0.106002  , ..., -0.487418  ,\n",
       "         0.65257901, -0.041673  ],\n",
       "       [-0.43035501,  0.50735301,  0.204868  , ...,  0.540595  ,\n",
       "         0.74284798, -0.213119  ],\n",
       "       [ 0.91647398,  0.36049801, -0.20116501, ..., -0.50574601,\n",
       "         0.71924102,  0.046239  ],\n",
       "       ..., \n",
       "       [ 0.76107103,  0.83726299, -0.28360999, ...,  0.170651  ,\n",
       "         0.103405  , -0.71069998],\n",
       "       [ 0.89855403,  0.8168    , -0.37794799, ...,  0.32508701,\n",
       "         0.61397099, -0.39332399],\n",
       "       [ 0.814578  ,  0.86901098, -0.498676  , ...,  0.21636599,\n",
       "         0.474002  , -0.49750999]], dtype=float32)"
      ]
     },
     "execution_count": 14,
     "metadata": {},
     "output_type": "execute_result"
    }
   ],
   "source": [
    "word_vectors.syn0"
   ]
  },
  {
   "cell_type": "markdown",
   "metadata": {},
   "source": [
    "That's the weights for Keras!"
   ]
  },
  {
   "cell_type": "code",
   "execution_count": 15,
   "metadata": {
    "collapsed": false
   },
   "outputs": [
    {
     "data": {
      "text/plain": [
       "(1344, 12)"
      ]
     },
     "execution_count": 15,
     "metadata": {},
     "output_type": "execute_result"
    }
   ],
   "source": [
    "word_vectors.syn0.shape"
   ]
  },
  {
   "cell_type": "code",
   "execution_count": 16,
   "metadata": {
    "collapsed": false,
    "scrolled": true
   },
   "outputs": [
    {
     "data": {
      "text/plain": [
       "[('AAAAA', 0.6307621002197266),\n",
       " ('AAAA', 0.6196656227111816),\n",
       " ('AAAGG', 0.597085177898407),\n",
       " ('GAAAA', 0.5835936069488525),\n",
       " ('AGGAA', 0.5639663338661194),\n",
       " ('AAAAG', 0.5594942569732666),\n",
       " ('CAAAA', 0.5461493730545044),\n",
       " ('GAAA', 0.5357614159584045),\n",
       " ('AAAAC', 0.5209873914718628),\n",
       " ('GGAAA', 0.5187864303588867)]"
      ]
     },
     "execution_count": 16,
     "metadata": {},
     "output_type": "execute_result"
    }
   ],
   "source": [
    "word_vectors.most_similar(positive=['AAA'], negative=['TTT'])"
   ]
  },
  {
   "cell_type": "code",
   "execution_count": 17,
   "metadata": {
    "collapsed": false,
    "scrolled": true
   },
   "outputs": [
    {
     "data": {
      "text/plain": [
       "[('AAAA', 0.997001051902771),\n",
       " ('AAAAA', 0.9936331510543823),\n",
       " ('AATAA', 0.9240623712539673),\n",
       " ('TAAAA', 0.9036520719528198),\n",
       " ('TAAA', 0.8960134983062744),\n",
       " ('GAAAA', 0.8902114629745483),\n",
       " ('AAAT', 0.8800619840621948),\n",
       " ('AAAAT', 0.8783645629882812),\n",
       " ('GAAA', 0.8714821338653564),\n",
       " ('CAAAA', 0.869722843170166)]"
      ]
     },
     "execution_count": 17,
     "metadata": {},
     "output_type": "execute_result"
    }
   ],
   "source": [
    "word_vectors.most_similar(positive=['AAA'])"
   ]
  },
  {
   "cell_type": "code",
   "execution_count": 18,
   "metadata": {
    "collapsed": false
   },
   "outputs": [
    {
     "data": {
      "text/plain": [
       "0.37256660513788192"
      ]
     },
     "execution_count": 18,
     "metadata": {},
     "output_type": "execute_result"
    }
   ],
   "source": [
    "word_vectors.similarity('AGAAT','AAGTA')"
   ]
  },
  {
   "cell_type": "markdown",
   "metadata": {},
   "source": [
    "More promising! At least no 99% as above....\n",
    "\n",
    "----------------\n",
    "\n",
    "Let's compare with Needleman Wunsch, an alignment algorithm"
   ]
  },
  {
   "cell_type": "code",
   "execution_count": 19,
   "metadata": {
    "collapsed": false
   },
   "outputs": [
    {
     "data": {
      "text/plain": [
       "[('AGAA-T-', '--AAGTA', 3.0, 0, 7),\n",
       " ('AGAA-T-', 'A--AGTA', 3.0, 0, 7),\n",
       " ('AGAA-T-', 'A-A-GTA', 3.0, 0, 7),\n",
       " ('AGAAT-', 'A-AGTA', 3.0, 0, 6),\n",
       " ('A-GAAT-', 'AAG--TA', 3.0, 0, 7),\n",
       " ('-AGAAT-', 'AAG--TA', 3.0, 0, 7),\n",
       " ('AGA--AT', 'A-AGTA-', 3.0, 0, 7),\n",
       " ('A-GA-AT', 'AAG-TA-', 3.0, 0, 7),\n",
       " ('-AGA-AT', 'AAG-TA-', 3.0, 0, 7),\n",
       " ('A-GAAT', 'AAGTA-', 3.0, 0, 6),\n",
       " ('-AGAAT', 'AAGTA-', 3.0, 0, 6),\n",
       " ('A-G-AAT', 'AAGTA--', 3.0, 0, 7),\n",
       " ('-AG-AAT', 'AAGTA--', 3.0, 0, 7)]"
      ]
     },
     "execution_count": 19,
     "metadata": {},
     "output_type": "execute_result"
    }
   ],
   "source": [
    "from Bio import pairwise2\n",
    "pairwise2.align.globalxx(\"AGAAT\", \"AAGTA\")"
   ]
  },
  {
   "cell_type": "code",
   "execution_count": 20,
   "metadata": {
    "collapsed": false
   },
   "outputs": [
    {
     "data": {
      "text/plain": [
       "0.42857142857142855"
      ]
     },
     "execution_count": 20,
     "metadata": {},
     "output_type": "execute_result"
    }
   ],
   "source": [
    "3.0/7"
   ]
  },
  {
   "cell_type": "markdown",
   "metadata": {},
   "source": [
    "Kind of close? 42 % to 37%...."
   ]
  },
  {
   "cell_type": "code",
   "execution_count": 21,
   "metadata": {
    "collapsed": false
   },
   "outputs": [],
   "source": [
    "nws = []\n",
    "sims = []\n",
    "\n",
    "counter = 0\n",
    "for a in word_vectors.vocab:\n",
    "    # a = ACCG, GGGGT, TGT, CAG, .....\n",
    "    for b in word_vectors.vocab:\n",
    "        if a == b: continue\n",
    "        new_score = pairwise2.align.globalxx(a, b)[0]\n",
    "        # ('CCAC--T', '-CA-AAT', 3.0, 0, 7)\n",
    "        score, length = new_score[2], new_score[-1]\n",
    "        \n",
    "        new_score = score/length # 3 / 7 = 0.42\n",
    "    \n",
    "        similarity = word_vectors.similarity(a, b) # 0.3\n",
    "        nws.append(new_score)\n",
    "        sims.append(similarity)\n",
    "            \n",
    "    counter += 1\n",
    "    if counter == 50: break"
   ]
  },
  {
   "cell_type": "code",
   "execution_count": 22,
   "metadata": {
    "collapsed": false
   },
   "outputs": [
    {
     "data": {
      "image/png": "[encoded data removed]",
      "text/plain": [
       "<matplotlib.figure.Figure at 0x7f0f13d10b38>"
      ]
     },
     "metadata": {},
     "output_type": "display_data"
    }
   ],
   "source": [
    "import seaborn as sns\n",
    "\n",
    "%matplotlib inline\n",
    "sns.jointplot(np.abs(nws), np.abs(sims), kind='reg');"
   ]
  },
  {
   "cell_type": "code",
   "execution_count": 23,
   "metadata": {
    "collapsed": false
   },
   "outputs": [
    {
     "data": {
      "text/plain": [
       "(0.54821708960152438, 0.0)"
      ]
     },
     "execution_count": 23,
     "metadata": {},
     "output_type": "execute_result"
    }
   ],
   "source": [
    "import scipy\n",
    "scipy.stats.pearsonr(nws, sims)"
   ]
  },
  {
   "cell_type": "markdown",
   "metadata": {},
   "source": [
    "wat. was expecting something higher"
   ]
  },
  {
   "cell_type": "code",
   "execution_count": 24,
   "metadata": {
    "collapsed": false
   },
   "outputs": [
    {
     "name": "stderr",
     "output_type": "stream",
     "text": [
      "Using TensorFlow backend.\n"
     ]
    }
   ],
   "source": [
    "weights = word_vectors.syn0\n",
    "\n",
    "from keras.layers import Embedding\n",
    "from keras.engine import Input\n",
    "\n",
    "layer = Embedding(input_dim=weights.shape[0], output_dim=weights.shape[1], weights=[weights], trainable=False)\n"
   ]
  },
  {
   "cell_type": "markdown",
   "metadata": {},
   "source": [
    "IMPORTANT to set trainable to False, else Keras is allowed to change our word2vec input weights!"
   ]
  },
  {
   "cell_type": "markdown",
   "metadata": {
    "collapsed": true
   },
   "source": [
    "We can either use an LSTM or convolutional layers here. Let's steal from their blog and use Conv1D\n",
    "\n",
    "https://blog.keras.io/using-pre-trained-word-embeddings-in-a-keras-model.html"
   ]
  },
  {
   "cell_type": "code",
   "execution_count": null,
   "metadata": {
    "collapsed": true
   },
   "outputs": [],
   "source": []
  }
 ],
 "metadata": {
  "kernelspec": {
   "display_name": "Python 3",
   "language": "python",
   "name": "python3"
  },
  "language_info": {
   "codemirror_mode": {
    "name": "ipython",
    "version": 3
   },
   "file_extension": ".py",
   "mimetype": "text/x-python",
   "name": "python",
   "nbconvert_exporter": "python",
   "pygments_lexer": "ipython3",
   "version": "3.5.3"
  }
 },
 "nbformat": 4,
 "nbformat_minor": 2
}
